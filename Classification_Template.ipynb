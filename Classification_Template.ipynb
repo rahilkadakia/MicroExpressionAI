{
  "nbformat": 4,
  "nbformat_minor": 0,
  "metadata": {
    "colab": {
      "name": "Classification_Template.ipynb",
      "provenance": [],
      "collapsed_sections": [],
      "mount_file_id": "1AGTML9AIDFdP_-HmNZ2BPOQhL6XpcbUH",
      "authorship_tag": "ABX9TyMM08Ob89NmkCbzQLAgLM9n",
      "include_colab_link": true
    },
    "kernelspec": {
      "name": "python3",
      "display_name": "Python 3"
    },
    "language_info": {
      "name": "python"
    }
  },
  "cells": [
    {
      "cell_type": "markdown",
      "metadata": {
        "id": "view-in-github",
        "colab_type": "text"
      },
      "source": [
        "<a href=\"https://colab.research.google.com/github/rahilkadakia/MicroExpressionAI/blob/main/Classification_Template.ipynb\" target=\"_parent\"><img src=\"https://colab.research.google.com/assets/colab-badge.svg\" alt=\"Open In Colab\"/></a>"
      ]
    },
    {
      "cell_type": "code",
      "metadata": {
        "id": "Vo3ZAuhq-_E_"
      },
      "source": [
        "import tensorflow_datasets as tfds\n",
        "from tensorflow.keras.utils import to_categorical\n",
        "import tensorflow as tf\n",
        "import numpy as np\n",
        "from tensorflow.image import grayscale_to_rgb\n",
        "from sklearn.model_selection import train_test_split\n",
        "import matplotlib.pyplot as plt\n",
        "from tensorflow.keras.preprocessing.image import ImageDataGenerator\n",
        "from tensorflow.keras.applications.vgg16 import VGG16\n",
        "from tensorflow.keras.applications.vgg16 import preprocess_input\n",
        "from tensorflow.keras import layers, models"
      ],
      "execution_count": null,
      "outputs": []
    },
    {
      "cell_type": "code",
      "metadata": {
        "id": "wXk1Z64p_EQf",
        "colab": {
          "base_uri": "https://localhost:8080/"
        },
        "outputId": "6a0d3851-ede4-4909-ec81-07050c97c129"
      },
      "source": [
        "from google.colab import drive\n",
        "drive.mount('/content/drive')"
      ],
      "execution_count": null,
      "outputs": [
        {
          "output_type": "stream",
          "name": "stdout",
          "text": [
            "Drive already mounted at /content/drive; to attempt to forcibly remount, call drive.mount(\"/content/drive\", force_remount=True).\n"
          ]
        }
      ]
    },
    {
      "cell_type": "code",
      "metadata": {
        "id": "PWClESzI_Fyt"
      },
      "source": [
        "from pathlib import Path\n",
        "import sys\n",
        "\n",
        "base = Path('/content/drive/My Drive/')\n",
        "sys.path.append(str(base))\n",
        "\n",
        "# !cp --help\n",
        "\n",
        "zip_path = base/'Split_Images.zip'\n",
        "!cp \"{zip_path}\" .\n",
        "!unzip -q Split_Images.zip\n",
        "!rm Split_Images.zip"
      ],
      "execution_count": null,
      "outputs": []
    },
    {
      "cell_type": "code",
      "metadata": {
        "id": "qNkVfXXN_HYP",
        "colab": {
          "base_uri": "https://localhost:8080/"
        },
        "outputId": "a6229c7a-d14d-4ebb-bd4a-df7834199cbb"
      },
      "source": [
        "trdata = ImageDataGenerator()\n",
        "traindata = trdata.flow_from_directory(directory=\"Split Images/train\",target_size=(256,256), shuffle=False)\n",
        "tsdata = ImageDataGenerator()\n",
        "testdata = tsdata.flow_from_directory(directory=\"Split Images/val\", target_size=(256,256), shuffle=False)"
      ],
      "execution_count": null,
      "outputs": [
        {
          "output_type": "stream",
          "text": [
            "Found 8201 images belonging to 8 classes.\n",
            "Found 3521 images belonging to 8 classes.\n"
          ],
          "name": "stdout"
        }
      ]
    },
    {
      "cell_type": "code",
      "metadata": {
        "id": "3XoAlOk6_JaP",
        "colab": {
          "base_uri": "https://localhost:8080/"
        },
        "outputId": "601ce225-7866-4c5e-9fff-46f8afdae056"
      },
      "source": [
        "## Loading model\n",
        "from tensorflow.keras.applications import MobileNet\n",
        "\n",
        "base_model = MobileNet(weights=\"imagenet\", include_top=False, input_shape=(256,256,3))\n",
        "base_model.trainable = False ## Not trainable weights"
      ],
      "execution_count": null,
      "outputs": [
        {
          "output_type": "stream",
          "text": [
            "WARNING:tensorflow:`input_shape` is undefined or non-square, or `rows` is not in [128, 160, 192, 224]. Weights for input shape (224, 224) will be loaded as the default.\n"
          ],
          "name": "stdout"
        }
      ]
    },
    {
      "cell_type": "code",
      "metadata": {
        "id": "u9YooQUJ_Mha"
      },
      "source": [
        "flatten_layer = layers.Flatten()\n",
        "dense_layer_1 = layers.Dense(64, activation='relu')\n",
        "dense_layer_2 = layers.Dense(32, activation='relu')\n",
        "prediction_layer = layers.Dense(8, activation='softmax')\n",
        "\n",
        "model = models.Sequential([\n",
        "    base_model,\n",
        "    flatten_layer,\n",
        "    dense_layer_1,\n",
        "    dense_layer_2,\n",
        "    prediction_layer\n",
        "])\n",
        " \n",
        "model.compile(\n",
        "    optimizer=tf.keras.optimizers.Adam(learning_rate=0.0001),\n",
        "    loss='categorical_crossentropy',\n",
        "    metrics=['accuracy', tf.keras.metrics.Precision(), tf.keras.metrics.Recall(), tf.keras.metrics.AUC(from_logits=True)],\n",
        ")"
      ],
      "execution_count": null,
      "outputs": []
    },
    {
      "cell_type": "code",
      "metadata": {
        "id": "pamQMAS31_B-"
      },
      "source": [
        "model.summary()"
      ],
      "execution_count": null,
      "outputs": []
    },
    {
      "cell_type": "code",
      "metadata": {
        "id": "vPwN_R24_XAJ"
      },
      "source": [
        "from tensorflow.keras.callbacks import EarlyStopping\n",
        "\n",
        "es = EarlyStopping(monitor='val_accuracy', mode='max', patience=10, restore_best_weights=True)\n",
        "# hist = model.fit(train_images, train_labels, validation_data=(validation_images, validation_labels), batch_size = 32, epochs=50)\n",
        "# hist = model.fit(train_images, train_labels, epochs=40, steps_per_epoch=len(train_images)//32, validation_steps=len(validation_images)//32, validation_data=(validation_images, validation_labels), batch_size=32, callbacks=[es])\n",
        "\n",
        "hist = model.fit(\n",
        "        traindata,\n",
        "        steps_per_epoch=traindata.samples//32,\n",
        "        epochs=8,\n",
        "        validation_data=testdata,\n",
        "        validation_steps=testdata.samples//32\n",
        ")"
      ],
      "execution_count": null,
      "outputs": []
    },
    {
      "cell_type": "code",
      "metadata": {
        "id": "Ittj9V2ri2tT"
      },
      "source": [
        "# model.save('drive/My Drive/MicroExpressions/mobilenet')\n",
        "model = tf.keras.models.load_model('drive/My Drive/mobilenet')"
      ],
      "execution_count": null,
      "outputs": []
    },
    {
      "cell_type": "code",
      "metadata": {
        "id": "cMFiuVuW_XzT"
      },
      "source": [
        "plt.plot(hist.history['accuracy'])\n",
        "plt.plot(hist.history['val_accuracy'])\n",
        "plt.title('Model Accuracy')\n",
        "plt.ylabel('Accuracy')\n",
        "plt.xlabel('Epoch')\n",
        "plt.legend(['train', 'test'], loc='upper left')\n",
        "plt.show()\n",
        " \n",
        "plt.plot(hist.history['loss'])\n",
        "plt.plot(hist.history['val_loss'])\n",
        "plt.title('Model Loss')\n",
        "plt.ylabel('Loss')\n",
        "plt.xlabel('Epoch')\n",
        "plt.legend(['train', 'test'], loc='upper left')\n",
        "plt.show()\n",
        " \n",
        "plt.plot(hist.history['precision'])\n",
        "plt.plot(hist.history['val_precision'])\n",
        "plt.title('Model Precision')\n",
        "plt.ylabel('Precision')\n",
        "plt.xlabel('Epoch')\n",
        "plt.legend(['train', 'test'], loc='upper left')\n",
        "plt.show()\n",
        " \n",
        "plt.plot(hist.history['recall'])\n",
        "plt.plot(hist.history['val_recall'])\n",
        "plt.title('Model Recall')\n",
        "plt.ylabel('Recall')\n",
        "plt.xlabel('Epoch')\n",
        "plt.legend(['train', 'test'], loc='upper left')\n",
        "plt.show()\n",
        " \n",
        "plt.plot(hist.history['auc'])\n",
        "plt.plot(hist.history['val_auc'])\n",
        "plt.title('Model AUC')\n",
        "plt.ylabel('AUC')\n",
        "plt.xlabel('Epoch')\n",
        "plt.legend(['train', 'test'], loc='upper left')\n",
        "plt.show()"
      ],
      "execution_count": null,
      "outputs": []
    },
    {
      "cell_type": "code",
      "metadata": {
        "id": "0XHhC5LWxcfw"
      },
      "source": [
        "y_pred = model.predict(testdata)\n",
        "y_pred = np.argmax(y_pred, axis=1)"
      ],
      "execution_count": null,
      "outputs": []
    },
    {
      "cell_type": "code",
      "metadata": {
        "colab": {
          "base_uri": "https://localhost:8080/"
        },
        "id": "MvWeav_Uu8j_",
        "outputId": "c4caeddb-3692-4234-b8d8-fd4edeb84d37"
      },
      "source": [
        "testdata"
      ],
      "execution_count": null,
      "outputs": [
        {
          "output_type": "execute_result",
          "data": {
            "text/plain": [
              "<tensorflow.python.keras.preprocessing.image.DirectoryIterator at 0x7fee24db6550>"
            ]
          },
          "metadata": {
            "tags": []
          },
          "execution_count": 15
        }
      ]
    },
    {
      "cell_type": "code",
      "metadata": {
        "colab": {
          "base_uri": "https://localhost:8080/"
        },
        "id": "w4Ztqk3ws12H",
        "outputId": "95a1699d-3fa4-47d3-b052-3018e66f64b5"
      },
      "source": [
        "from sklearn.metrics import classification_report\n",
        "\n",
        "target_names = ['Anger', 'Contempt', 'Disgust', 'Fear', 'Happiness', 'Other', 'Sadness', 'Surprise']\n",
        "cr = classification_report(testdata.classes, y_pred, target_names=target_names)\n",
        "print(cr)"
      ],
      "execution_count": null,
      "outputs": [
        {
          "output_type": "stream",
          "text": [
            "              precision    recall  f1-score   support\n",
            "\n",
            "       Anger       1.00      1.00      1.00      1250\n",
            "    Contempt       1.00      1.00      1.00       269\n",
            "     Disgust       0.99      1.00      1.00       200\n",
            "        Fear       1.00      1.00      1.00       161\n",
            "   Happiness       1.00      1.00      1.00       582\n",
            "       Other       1.00      1.00      1.00       622\n",
            "     Sadness       1.00      1.00      1.00       118\n",
            "    Surprise       1.00      1.00      1.00       319\n",
            "\n",
            "    accuracy                           1.00      3521\n",
            "   macro avg       1.00      1.00      1.00      3521\n",
            "weighted avg       1.00      1.00      1.00      3521\n",
            "\n"
          ],
          "name": "stdout"
        }
      ]
    },
    {
      "cell_type": "code",
      "metadata": {
        "colab": {
          "base_uri": "https://localhost:8080/"
        },
        "id": "CUmekpvLwL6v",
        "outputId": "9be598ed-e512-4e61-f38b-47259a48c827"
      },
      "source": [
        "type(testdata.samples)"
      ],
      "execution_count": null,
      "outputs": [
        {
          "output_type": "execute_result",
          "data": {
            "text/plain": [
              "int"
            ]
          },
          "metadata": {
            "tags": []
          },
          "execution_count": 28
        }
      ]
    },
    {
      "cell_type": "code",
      "metadata": {
        "id": "tgzqgiSNxike"
      },
      "source": [
        "from sklearn.metrics import accuracy_score, confusion_matrix, classification_report, multilabel_confusion_matrix, jaccard_score\n",
        "cm = confusion_matrix(testdata.labels, y_pred)\n",
        "acc = accuracy_score(testdata.labels, y_pred, normalize=True)"
      ],
      "execution_count": null,
      "outputs": []
    },
    {
      "cell_type": "code",
      "metadata": {
        "id": "cEE8MGKexnHJ",
        "colab": {
          "base_uri": "https://localhost:8080/",
          "height": 592
        },
        "outputId": "88c78af4-a350-4eff-c5ec-51dc8fad9f73"
      },
      "source": [
        "import seaborn as sns\n",
        "\n",
        "labels = ['Anger', 'Contempt', 'Disgust', 'Fear', 'Happiness', 'Other', 'Sadness', 'Surprise']\n",
        "\n",
        "plt.figure(figsize=(15,10))\n",
        "sns.heatmap(cm, annot = True, cmap=plt.cm.Blues, fmt=\"d\", xticklabels=labels, yticklabels=labels)\n",
        "plt.show()"
      ],
      "execution_count": null,
      "outputs": [
        {
          "output_type": "display_data",
          "data": {
            "image/png": "[encoded data removed]",
            "text/plain": [
              "<Figure size 1080x720 with 2 Axes>"
            ]
          },
          "metadata": {
            "tags": [],
            "needs_background": "light"
          }
        }
      ]
    },
    {
      "cell_type": "code",
      "metadata": {
        "id": "7HM8_tEx4oih",
        "colab": {
          "base_uri": "https://localhost:8080/"
        },
        "outputId": "fdf3bee6-de07-46ac-90d6-d34c419ac4dc"
      },
      "source": [
        "model.evaluate(testdata, batch_size=32)"
      ],
      "execution_count": null,
      "outputs": [
        {
          "output_type": "stream",
          "text": [
            "111/111 [==============================] - 31s 283ms/step - loss: 0.0099 - accuracy: 0.9989 - precision_1: 0.9989 - recall_1: 0.9986 - auc: 1.0000\n"
          ],
          "name": "stdout"
        },
        {
          "output_type": "execute_result",
          "data": {
            "text/plain": [
              "[0.009938187897205353,\n",
              " 0.998863935470581,\n",
              " 0.9988636374473572,\n",
              " 0.9985799193382263,\n",
              " 0.9999934434890747]"
            ]
          },
          "metadata": {
            "tags": []
          },
          "execution_count": 20
        }
      ]
    }
  ]
}