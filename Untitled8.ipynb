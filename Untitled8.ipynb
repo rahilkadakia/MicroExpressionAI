{
  "nbformat": 4,
  "nbformat_minor": 0,
  "metadata": {
    "colab": {
      "name": "Untitled8.ipynb",
      "provenance": [],
      "collapsed_sections": []
    },
    "kernelspec": {
      "name": "python3",
      "display_name": "Python 3"
    },
    "language_info": {
      "name": "python"
    },
    "accelerator": "GPU"
  },
  "cells": [
    {
      "cell_type": "code",
      "metadata": {
        "id": "RK2JYYd5RpWR"
      },
      "source": [
        "import os\n",
        "import numpy as np\n",
        "import pandas as pd\n",
        "import cv2 as cv2\n",
        "import random as random\n",
        "import tensorflow as tf\n",
        "import matplotlib.pyplot as plt\n",
        "from sklearn.cluster import KMeans\n",
        "from sklearn.preprocessing import MinMaxScaler\n",
        "from tensorflow.keras import datasets, layers, models"
      ],
      "execution_count": 1,
      "outputs": []
    },
    {
      "cell_type": "code",
      "metadata": {
        "colab": {
          "base_uri": "https://localhost:8080/"
        },
        "id": "63MYQCTNSKOu",
        "outputId": "5e31331f-3293-4808-bf63-653f38ccfc49"
      },
      "source": [
        "print(os.getcwd())"
      ],
      "execution_count": null,
      "outputs": [
        {
          "output_type": "stream",
          "text": [
            "/content\n"
          ],
          "name": "stdout"
        }
      ]
    },
    {
      "cell_type": "code",
      "metadata": {
        "colab": {
          "base_uri": "https://localhost:8080/"
        },
        "id": "O44oqcE4SeFE",
        "outputId": "83cd1044-2ee3-4df3-d4ae-e89ba31d4433"
      },
      "source": [
        "training_set = np.load('/content/drive/MyDrive/datapre.npy')\n",
        "traininglabels = np.load('/content/drive/MyDrive/labelspre.npy')\n",
        "print(np.sum(training_set[0][0][:][:][:]))\n",
        "# training_set = np.reshape(training_set,(137*50,64,64))\n",
        "# print(np.sum(training_set[:50][:][:]))\n",
        "# print(traininglabels.shape, training_set.shape)"
      ],
      "execution_count": 9,
      "outputs": [
        {
          "output_type": "stream",
          "text": [
            "27577.32\n"
          ],
          "name": "stdout"
        }
      ]
    },
    {
      "cell_type": "code",
      "metadata": {
        "colab": {
          "base_uri": "https://localhost:8080/"
        },
        "id": "LKDt3TGBSlvE",
        "outputId": "f6642214-3714-41a8-f62f-45fbad2cd8b8"
      },
      "source": [
        "\n",
        "model1 = models.Sequential()\n",
        "model1.add(layers.Conv2D(32, (3,3), input_shape = (64, 64, 1), activation = 'relu'))\n",
        "model1.add(layers.MaxPooling2D(pool_size = (2,2)))\n",
        "model1.add(layers.Dropout(0.05))\n",
        "model1.add(layers.Conv2D(64, (3,3), activation = 'relu'))\n",
        "model1.add(layers.MaxPooling2D(pool_size = (2,2)))\n",
        "model1.add(layers.Dropout(0.35))\n",
        "model1.add(layers.Flatten())\n",
        "model1.add(layers.Dense(200,activation = 'relu'))\n",
        "model1.add(layers.Dense(8, activation = 'softmax'))\n",
        "model1.compile(loss = tf.keras.losses.CategoricalCrossentropy(),optimizer= 'adam',\n",
        "              metrics = ['accuracy'])\n",
        "model1.summary()"
      ],
      "execution_count": 10,
      "outputs": [
        {
          "output_type": "stream",
          "text": [
            "Model: \"sequential_1\"\n",
            "_________________________________________________________________\n",
            "Layer (type)                 Output Shape              Param #   \n",
            "=================================================================\n",
            "conv2d_2 (Conv2D)            (None, 62, 62, 32)        320       \n",
            "_________________________________________________________________\n",
            "max_pooling2d_2 (MaxPooling2 (None, 31, 31, 32)        0         \n",
            "_________________________________________________________________\n",
            "dropout_2 (Dropout)          (None, 31, 31, 32)        0         \n",
            "_________________________________________________________________\n",
            "conv2d_3 (Conv2D)            (None, 29, 29, 64)        18496     \n",
            "_________________________________________________________________\n",
            "max_pooling2d_3 (MaxPooling2 (None, 14, 14, 64)        0         \n",
            "_________________________________________________________________\n",
            "dropout_3 (Dropout)          (None, 14, 14, 64)        0         \n",
            "_________________________________________________________________\n",
            "flatten_1 (Flatten)          (None, 12544)             0         \n",
            "_________________________________________________________________\n",
            "dense_2 (Dense)              (None, 200)               2509000   \n",
            "_________________________________________________________________\n",
            "dense_3 (Dense)              (None, 8)                 1608      \n",
            "=================================================================\n",
            "Total params: 2,529,424\n",
            "Trainable params: 2,529,424\n",
            "Non-trainable params: 0\n",
            "_________________________________________________________________\n"
          ],
          "name": "stdout"
        }
      ]
    },
    {
      "cell_type": "code",
      "metadata": {
        "colab": {
          "base_uri": "https://localhost:8080/"
        },
        "id": "HHgbeXScqq6m",
        "outputId": "466d9e01-fb24-4718-f58e-d0d387e5be39"
      },
      "source": [
        "from sklearn.model_selection import train_test_split\n",
        "X_train, X_test, y_train, y_test = train_test_split(training_set,traininglabels,test_size=0.2, random_state = 42)\n",
        "# X_train = np.reshape(X_train,(X_train.shap*50,64,64))\n",
        "X_train = np.reshape(X_train,(X_train.shape[0]*50,X_train.shape[2],X_train.shape[3],1))\n",
        "X_test = np.reshape(X_test,(X_test.shape[0]*50,X_test.shape[2],X_test.shape[3],1))\n",
        "y_labels = np.zeros((y_train.shape[0]*50,8))\n",
        "k = 0\n",
        "#print(y_train.shape,y_labels.shape,X_train.shape)\n",
        "for i in range(y_train.shape[0]):\n",
        "    y_labels[k:k+50] = y_train[i]\n",
        "    k += 50\n",
        "print(y_labels.shape,y_labels[0])"
      ],
      "execution_count": 17,
      "outputs": [
        {
          "output_type": "stream",
          "text": [
            "(5450, 8) [0. 0. 0. 0. 0. 0. 0. 1.]\n"
          ],
          "name": "stdout"
        }
      ]
    },
    {
      "cell_type": "code",
      "metadata": {
        "id": "x3fqwPmxtYzc"
      },
      "source": [
        "print(y_labels[50:100])"
      ],
      "execution_count": null,
      "outputs": []
    },
    {
      "cell_type": "code",
      "metadata": {
        "id": "aPv-cmXXtu4K",
        "colab": {
          "base_uri": "https://localhost:8080/"
        },
        "outputId": "1eb3424c-1417-4c39-fb27-de0cda5ae5ab"
      },
      "source": [
        "model1.fit(X_train,y_labels,validation_data=(X_test,y_labels_test),epochs=50,batch_size=50)"
      ],
      "execution_count": 18,
      "outputs": [
        {
          "output_type": "stream",
          "text": [
            "Epoch 1/50\n",
            "109/109 [==============================] - 1s 11ms/step - loss: 1.0767 - accuracy: 0.5842 - val_loss: 2.3026 - val_accuracy: 0.3093\n",
            "Epoch 2/50\n",
            "109/109 [==============================] - 1s 9ms/step - loss: 0.9990 - accuracy: 0.6094 - val_loss: 2.6136 - val_accuracy: 0.3257\n",
            "Epoch 3/50\n",
            "109/109 [==============================] - 1s 9ms/step - loss: 0.9181 - accuracy: 0.6415 - val_loss: 2.6233 - val_accuracy: 0.3207\n",
            "Epoch 4/50\n",
            "109/109 [==============================] - 1s 9ms/step - loss: 0.8701 - accuracy: 0.6554 - val_loss: 2.7241 - val_accuracy: 0.3093\n",
            "Epoch 5/50\n",
            "109/109 [==============================] - 1s 9ms/step - loss: 0.8082 - accuracy: 0.6750 - val_loss: 2.8366 - val_accuracy: 0.3529\n",
            "Epoch 6/50\n",
            "109/109 [==============================] - 1s 9ms/step - loss: 0.7517 - accuracy: 0.6985 - val_loss: 3.0611 - val_accuracy: 0.3193\n",
            "Epoch 7/50\n",
            "109/109 [==============================] - 1s 9ms/step - loss: 0.7099 - accuracy: 0.7149 - val_loss: 3.0515 - val_accuracy: 0.3393\n",
            "Epoch 8/50\n",
            "109/109 [==============================] - 1s 9ms/step - loss: 0.6740 - accuracy: 0.7264 - val_loss: 3.0275 - val_accuracy: 0.3236\n",
            "Epoch 9/50\n",
            "109/109 [==============================] - 1s 9ms/step - loss: 0.6321 - accuracy: 0.7475 - val_loss: 3.2272 - val_accuracy: 0.3479\n",
            "Epoch 10/50\n",
            "109/109 [==============================] - 1s 9ms/step - loss: 0.5993 - accuracy: 0.7574 - val_loss: 3.2572 - val_accuracy: 0.3357\n",
            "Epoch 11/50\n",
            "109/109 [==============================] - 1s 9ms/step - loss: 0.5688 - accuracy: 0.7657 - val_loss: 3.2599 - val_accuracy: 0.3436\n",
            "Epoch 12/50\n",
            "109/109 [==============================] - 1s 9ms/step - loss: 0.5430 - accuracy: 0.7813 - val_loss: 3.7662 - val_accuracy: 0.3207\n",
            "Epoch 13/50\n",
            "109/109 [==============================] - 1s 9ms/step - loss: 0.5323 - accuracy: 0.7815 - val_loss: 3.6163 - val_accuracy: 0.3486\n",
            "Epoch 14/50\n",
            "109/109 [==============================] - 1s 9ms/step - loss: 0.5125 - accuracy: 0.7868 - val_loss: 3.7550 - val_accuracy: 0.3500\n",
            "Epoch 15/50\n",
            "109/109 [==============================] - 1s 9ms/step - loss: 0.4940 - accuracy: 0.7978 - val_loss: 3.6125 - val_accuracy: 0.3450\n",
            "Epoch 16/50\n",
            "109/109 [==============================] - 1s 9ms/step - loss: 0.4739 - accuracy: 0.8022 - val_loss: 3.8151 - val_accuracy: 0.3379\n",
            "Epoch 17/50\n",
            "109/109 [==============================] - 1s 9ms/step - loss: 0.4639 - accuracy: 0.8083 - val_loss: 3.8430 - val_accuracy: 0.3514\n",
            "Epoch 18/50\n",
            "109/109 [==============================] - 1s 9ms/step - loss: 0.4295 - accuracy: 0.8204 - val_loss: 3.9453 - val_accuracy: 0.3486\n",
            "Epoch 19/50\n",
            "109/109 [==============================] - 1s 9ms/step - loss: 0.4269 - accuracy: 0.8174 - val_loss: 4.0862 - val_accuracy: 0.3593\n",
            "Epoch 20/50\n",
            "109/109 [==============================] - 1s 9ms/step - loss: 0.4188 - accuracy: 0.8268 - val_loss: 4.1778 - val_accuracy: 0.3450\n",
            "Epoch 21/50\n",
            "109/109 [==============================] - 1s 9ms/step - loss: 0.3988 - accuracy: 0.8292 - val_loss: 4.3173 - val_accuracy: 0.3543\n",
            "Epoch 22/50\n",
            "109/109 [==============================] - 1s 9ms/step - loss: 0.3924 - accuracy: 0.8350 - val_loss: 4.1255 - val_accuracy: 0.3407\n",
            "Epoch 23/50\n",
            "109/109 [==============================] - 1s 9ms/step - loss: 0.3933 - accuracy: 0.8338 - val_loss: 4.2658 - val_accuracy: 0.3600\n",
            "Epoch 24/50\n",
            "109/109 [==============================] - 1s 9ms/step - loss: 0.3757 - accuracy: 0.8442 - val_loss: 4.5342 - val_accuracy: 0.3314\n",
            "Epoch 25/50\n",
            "109/109 [==============================] - 1s 9ms/step - loss: 0.3630 - accuracy: 0.8426 - val_loss: 4.4467 - val_accuracy: 0.3493\n",
            "Epoch 26/50\n",
            "109/109 [==============================] - 1s 9ms/step - loss: 0.3679 - accuracy: 0.8462 - val_loss: 4.6637 - val_accuracy: 0.3393\n",
            "Epoch 27/50\n",
            "109/109 [==============================] - 1s 9ms/step - loss: 0.3424 - accuracy: 0.8521 - val_loss: 4.7164 - val_accuracy: 0.3507\n",
            "Epoch 28/50\n",
            "109/109 [==============================] - 1s 9ms/step - loss: 0.3459 - accuracy: 0.8523 - val_loss: 4.4590 - val_accuracy: 0.3600\n",
            "Epoch 29/50\n",
            "109/109 [==============================] - 1s 9ms/step - loss: 0.3359 - accuracy: 0.8550 - val_loss: 4.5300 - val_accuracy: 0.3450\n",
            "Epoch 30/50\n",
            "109/109 [==============================] - 1s 9ms/step - loss: 0.3265 - accuracy: 0.8567 - val_loss: 4.7483 - val_accuracy: 0.3636\n",
            "Epoch 31/50\n",
            "109/109 [==============================] - 1s 9ms/step - loss: 0.3229 - accuracy: 0.8611 - val_loss: 4.6978 - val_accuracy: 0.3686\n",
            "Epoch 32/50\n",
            "109/109 [==============================] - 1s 9ms/step - loss: 0.3121 - accuracy: 0.8659 - val_loss: 4.9846 - val_accuracy: 0.3550\n",
            "Epoch 33/50\n",
            "109/109 [==============================] - 1s 9ms/step - loss: 0.3045 - accuracy: 0.8701 - val_loss: 4.8823 - val_accuracy: 0.3364\n",
            "Epoch 34/50\n",
            "109/109 [==============================] - 1s 9ms/step - loss: 0.3203 - accuracy: 0.8602 - val_loss: 5.0734 - val_accuracy: 0.3521\n",
            "Epoch 35/50\n",
            "109/109 [==============================] - 1s 9ms/step - loss: 0.3038 - accuracy: 0.8681 - val_loss: 4.7489 - val_accuracy: 0.3421\n",
            "Epoch 36/50\n",
            "109/109 [==============================] - 1s 9ms/step - loss: 0.2958 - accuracy: 0.8683 - val_loss: 4.9116 - val_accuracy: 0.3450\n",
            "Epoch 37/50\n",
            "109/109 [==============================] - 1s 9ms/step - loss: 0.2936 - accuracy: 0.8683 - val_loss: 4.9875 - val_accuracy: 0.3486\n",
            "Epoch 38/50\n",
            "109/109 [==============================] - 1s 9ms/step - loss: 0.2876 - accuracy: 0.8714 - val_loss: 5.4239 - val_accuracy: 0.3636\n",
            "Epoch 39/50\n",
            "109/109 [==============================] - 1s 9ms/step - loss: 0.2934 - accuracy: 0.8736 - val_loss: 5.1425 - val_accuracy: 0.3686\n",
            "Epoch 40/50\n",
            "109/109 [==============================] - 1s 9ms/step - loss: 0.2864 - accuracy: 0.8754 - val_loss: 5.2371 - val_accuracy: 0.3543\n",
            "Epoch 41/50\n",
            "109/109 [==============================] - 1s 9ms/step - loss: 0.2715 - accuracy: 0.8760 - val_loss: 5.2962 - val_accuracy: 0.3529\n",
            "Epoch 42/50\n",
            "109/109 [==============================] - 1s 9ms/step - loss: 0.2699 - accuracy: 0.8831 - val_loss: 4.9037 - val_accuracy: 0.3621\n",
            "Epoch 43/50\n",
            "109/109 [==============================] - 1s 9ms/step - loss: 0.2738 - accuracy: 0.8712 - val_loss: 5.1552 - val_accuracy: 0.3629\n",
            "Epoch 44/50\n",
            "109/109 [==============================] - 1s 9ms/step - loss: 0.2714 - accuracy: 0.8848 - val_loss: 5.1580 - val_accuracy: 0.3536\n",
            "Epoch 45/50\n",
            "109/109 [==============================] - 1s 9ms/step - loss: 0.2550 - accuracy: 0.8884 - val_loss: 5.0257 - val_accuracy: 0.3621\n",
            "Epoch 46/50\n",
            "109/109 [==============================] - 1s 9ms/step - loss: 0.2660 - accuracy: 0.8791 - val_loss: 5.4424 - val_accuracy: 0.3579\n",
            "Epoch 47/50\n",
            "109/109 [==============================] - 1s 9ms/step - loss: 0.2479 - accuracy: 0.8844 - val_loss: 5.1895 - val_accuracy: 0.3686\n",
            "Epoch 48/50\n",
            "109/109 [==============================] - 1s 9ms/step - loss: 0.2502 - accuracy: 0.8881 - val_loss: 4.9138 - val_accuracy: 0.3771\n",
            "Epoch 49/50\n",
            "109/109 [==============================] - 1s 9ms/step - loss: 0.2383 - accuracy: 0.8938 - val_loss: 5.2704 - val_accuracy: 0.3664\n",
            "Epoch 50/50\n",
            "109/109 [==============================] - 1s 9ms/step - loss: 0.2401 - accuracy: 0.8980 - val_loss: 5.5850 - val_accuracy: 0.3393\n"
          ],
          "name": "stdout"
        },
        {
          "output_type": "execute_result",
          "data": {
            "text/plain": [
              "<tensorflow.python.keras.callbacks.History at 0x7f412e0a4b10>"
            ]
          },
          "metadata": {
            "tags": []
          },
          "execution_count": 18
        }
      ]
    },
    {
      "cell_type": "code",
      "metadata": {
        "id": "d-gnfwCXvKxb"
      },
      "source": [
        "model1.save_weights(\"model1.h5\")"
      ],
      "execution_count": null,
      "outputs": []
    },
    {
      "cell_type": "code",
      "metadata": {
        "id": "ANCRcsVOtoAa"
      },
      "source": [
        ""
      ],
      "execution_count": null,
      "outputs": []
    },
    {
      "cell_type": "code",
      "metadata": {
        "colab": {
          "base_uri": "https://localhost:8080/"
        },
        "id": "BVqMF-pvvUZZ",
        "outputId": "3e8fc984-a1b9-49a0-f5fa-e73927ce3059"
      },
      "source": [
        "#X_test = np.reshape(X_test,(X_test.shape[0]*50,X_test.shape[2],X_test.shape[3],1))\n",
        "y_labels_test = np.zeros((y_test.shape[0]*50,8))\n",
        "k = 0\n",
        "print(y_test.shape,y_labels_test.shape,X_test.shape)\n",
        "for i in range(y_test.shape[0]):\n",
        "    y_labels_test[k:k+50] = y_test[i]\n",
        "    k += 50\n",
        "print(X_test.shape,y_labels_test.shape,y_labels_test[0])\n",
        "#model1.evaluate(X_test,y_labels_test,batch_size=50)"
      ],
      "execution_count": 16,
      "outputs": [
        {
          "output_type": "stream",
          "text": [
            "(28, 8) (1400, 8) (28, 1, 64, 64, 50)\n",
            "(28, 1, 64, 64, 50) (1400, 8) [0. 0. 0. 0. 0. 1. 0. 0.]\n"
          ],
          "name": "stdout"
        }
      ]
    },
    {
      "cell_type": "code",
      "metadata": {
        "id": "eoMKcN0kyh66"
      },
      "source": [
        "modelfeatured1 = models.Model(\n",
        "    inputs=model1.input,\n",
        "    outputs=model1.get_layer('dense').output\n",
        ")\n",
        "\n",
        "modelfeatured2 = models.Model(\n",
        "    inputs=model1.input,\n",
        "    outputs=model1.get_layer('flatten').output\n",
        ")"
      ],
      "execution_count": null,
      "outputs": []
    },
    {
      "cell_type": "code",
      "metadata": {
        "id": "QEuM2_epzDV0"
      },
      "source": [
        "X_train_features = modelfeatured1.predict(X_train)\n",
        "X_test_features = modelfeatured1.predict(X_test)"
      ],
      "execution_count": null,
      "outputs": []
    },
    {
      "cell_type": "code",
      "metadata": {
        "colab": {
          "base_uri": "https://localhost:8080/"
        },
        "id": "3eruWQcUzPFl",
        "outputId": "578f9cf0-8607-4837-f64d-d7eecfa28ed7"
      },
      "source": [
        "#\n",
        "X_train_features = np.reshape(X_train_features,(int(X_train_features.shape[0]/50),50,200))\n",
        "X_test_features = np.reshape(X_test_features,(int(X_test_features.shape[0]/50),50,200))\n",
        "X_train_features.shape,X_test_features.shape, y_labels.shape,y_labels_test.shape"
      ],
      "execution_count": null,
      "outputs": [
        {
          "output_type": "execute_result",
          "data": {
            "text/plain": [
              "((109, 50, 200), (28, 50, 200))"
            ]
          },
          "metadata": {
            "tags": []
          },
          "execution_count": 14
        }
      ]
    },
    {
      "cell_type": "code",
      "metadata": {
        "colab": {
          "base_uri": "https://localhost:8080/"
        },
        "id": "VkqggrN6ur4y",
        "outputId": "47003757-e2cc-4752-9d68-c5c47f58adb9"
      },
      "source": [
        "\n",
        "model2 = models.Sequential()\n",
        "model2.add(layers.LSTM(500, activation='relu', return_sequences=True, input_shape=(50, 200)))\n",
        "model2.add(tf.keras.layers.BatchNormalization())\n",
        "model2.add(layers.LSTM(500, activation='relu'))\n",
        "model2.add(layers.Dense(8,activation=\"softmax\"))"
      ],
      "execution_count": null,
      "outputs": [
        {
          "output_type": "stream",
          "text": [
            "WARNING:tensorflow:Layer lstm_2 will not use cuDNN kernel since it doesn't meet the cuDNN kernel criteria. It will use generic GPU kernel as fallback when running on GPU\n",
            "WARNING:tensorflow:Layer lstm_3 will not use cuDNN kernel since it doesn't meet the cuDNN kernel criteria. It will use generic GPU kernel as fallback when running on GPU\n"
          ],
          "name": "stdout"
        }
      ]
    },
    {
      "cell_type": "code",
      "metadata": {
        "id": "H-LUa2s8vc8l"
      },
      "source": [
        "model2.compile(loss=tf.keras.losses.CategoricalCrossentropy(), optimizer='adam',\n",
        "                    metrics=['accuracy','top_k_categorical_accuracy'])  "
      ],
      "execution_count": null,
      "outputs": []
    },
    {
      "cell_type": "code",
      "metadata": {
        "id": "Upiand9oveyK"
      },
      "source": [
        "y_labels_new = np.zeros((109,8))\n",
        "y_labels_test_new = np.zeros((28,8))\n",
        "j = 0 \n",
        "for i in range(109):\n",
        "  y_labels_new[i] = y_labels[j]\n",
        "  j += 50\n",
        "j = 0\n",
        "for i in range(28):\n",
        "  y_labels_test_new[i] = y_labels_test[j]\n",
        "  j += 50\n",
        "X_train_features.shape,X_test_features.shape, y_labels.shape,y_labels_test.shape\n"
      ],
      "execution_count": null,
      "outputs": []
    },
    {
      "cell_type": "code",
      "metadata": {
        "colab": {
          "base_uri": "https://localhost:8080/"
        },
        "id": "Oh3W3TA2w-lc",
        "outputId": "dc8d5934-ac12-4c42-bbc9-fa1e1e94b75d"
      },
      "source": [
        "y_labels_new.shape,y_labels_test_new.shape"
      ],
      "execution_count": null,
      "outputs": [
        {
          "output_type": "execute_result",
          "data": {
            "text/plain": [
              "((109, 8), (28, 8))"
            ]
          },
          "metadata": {
            "tags": []
          },
          "execution_count": 21
        }
      ]
    },
    {
      "cell_type": "code",
      "metadata": {
        "id": "x2izZK5HxPMi"
      },
      "source": [
        "model2.fit(X_train_features,y_labels_new,validation_data=(X_test_features,y_labels_test_new),batch_size=16,epochs=100)"
      ],
      "execution_count": null,
      "outputs": []
    },
    {
      "cell_type": "code",
      "metadata": {
        "colab": {
          "base_uri": "https://localhost:8080/"
        },
        "id": "vpHdGLkYyc0U",
        "outputId": "89e90e24-d53c-46d3-bb45-4d29c7f9e15a"
      },
      "source": [
        "model2.evaluate(X_test_features,y_labels_test_new,batch_size=16)"
      ],
      "execution_count": null,
      "outputs": [
        {
          "output_type": "stream",
          "text": [
            "2/2 [==============================] - 0s 22ms/step - loss: 4.8751 - accuracy: 0.3929 - top_k_categorical_accuracy: 0.7857\n"
          ],
          "name": "stdout"
        },
        {
          "output_type": "execute_result",
          "data": {
            "text/plain": [
              "[4.875071048736572, 0.3928571343421936, 0.7857142686843872]"
            ]
          },
          "metadata": {
            "tags": []
          },
          "execution_count": 30
        }
      ]
    },
    {
      "cell_type": "code",
      "metadata": {
        "id": "8CUA9L0mchd3"
      },
      "source": [
        "from keras.layers import Input\n",
        "base_model = tf.keras.applications.inception_v3.InceptionV3(\n",
        "    weights='imagenet',\n",
        "    include_top=False,\n",
        "\t  input_tensor=Input(shape=(254, 254, 3))\n",
        ")\n",
        "base_model.summary()\n"
      ],
      "execution_count": null,
      "outputs": []
    },
    {
      "cell_type": "code",
      "metadata": {
        "id": "V12kfJCPc0vT"
      },
      "source": [
        "modelfeatured3 = models.Model(\n",
        "    inputs=base_model.input,\n",
        "    outputs=base_model.get_layer('average_pooling2d_51').output\n",
        ")\n",
        "modelfeatured3.summary()"
      ],
      "execution_count": null,
      "outputs": []
    },
    {
      "cell_type": "code",
      "metadata": {
        "id": "i343Y9dxYGAO"
      },
      "source": [
        "train_featured = modelfeatured3.predict(training_set)\n",
        "train_featured.shape"
      ],
      "execution_count": null,
      "outputs": []
    },
    {
      "cell_type": "code",
      "metadata": {
        "colab": {
          "base_uri": "https://localhost:8080/",
          "height": 72
        },
        "id": "K3rrvxgp3JHm",
        "outputId": "96cf9bc0-161f-431b-ed0c-410251962bfd"
      },
      "source": [
        "#os.getcwd()\n",
        "os.chdir('/content/drive/MyDrive/SAMM')\n",
        "print(os.listdir(os.getcwd()))\n",
        "os.getcwd()\n"
      ],
      "execution_count": null,
      "outputs": [
        {
          "output_type": "stream",
          "text": [
            "['SAMM_Micro_FACS_Codes_v2.xlsx', 'microexpstcnn_images.npy', 'microexpstcnn_val_labels.npy', 'microexpstcnn_val_images.npy', 'microexpstcnn_labels.npy', 'data.npy', 'datapre.npy', 'labelspre.npy', 'SAMM']\n"
          ],
          "name": "stdout"
        },
        {
          "output_type": "execute_result",
          "data": {
            "application/vnd.google.colaboratory.intrinsic+json": {
              "type": "string"
            },
            "text/plain": [
              "'/content/drive/MyDrive/SAMM'"
            ]
          },
          "metadata": {
            "tags": []
          },
          "execution_count": 35
        }
      ]
    },
    {
      "cell_type": "code",
      "metadata": {
        "id": "mt9BUibUY0GC",
        "colab": {
          "base_uri": "https://localhost:8080/",
          "height": 407
        },
        "outputId": "d6a62ce1-6e91-463e-e618-84f528d196ec"
      },
      "source": [
        "import imageio\n",
        "frames_per_vid = []\n",
        "path = \"/content/drive/MyDrive/SAMM\"\n",
        "\n",
        "def get_training_data():\n",
        "    training_list = []\n",
        "    sub_dir = os.path.join(path, \"SAMM\")\n",
        "    print(os.listdir(sub_dir))\n",
        "    for sub_img in os.listdir(sub_dir):\n",
        "        print(sub_img)\n",
        "        for video in os.listdir(os.path.join(sub_dir + \"/\" + sub_img)):\n",
        "            video_path = sub_dir+\"/\"+sub_img+\"/\"+video\n",
        "            video = []\n",
        "            frames_per_vid.append(len(os.listdir(video_path)))\n",
        "            for img in os.listdir(video_path):\n",
        "                #print(os.path.join(video_path, img))\n",
        "                img_path = os.path.join(video_path, img)\n",
        "                #frame = cv2.imread(img_path)\n",
        "                #print(\"path \", img_path)\n",
        "                frame = imageio.imread(img_path, 'jpg')\n",
        "                frame = cv2.resize(\n",
        "                    frame, (256, 256), interpolation=cv2.INTER_AREA)\n",
        "\n",
        "                # imageresize = cv2.resize(\n",
        "                #     frame, (image_rows, image_columns), interpolation=cv2.INTER_AREA)\n",
        "                frame = cv2.cvtColor(frame, cv2.COLOR_GRAY2RGB)\n",
        "                frame = frame.astype('float32')\n",
        "                # print(frame.shape)\n",
        "                video.append(frame)\n",
        "                # print(os.path.join(sub_dir+img))\n",
        "                #im = cv2.imread(os.path.join(sub_dir+img))\n",
        "            video = np.array(video)\n",
        "            video = video.astype('float32')\n",
        "            video /= 255\n",
        "            video = video.reshape(\n",
        "                video.shape[0], video.shape[1], video.shape[2], 3)\n",
        "            # print(video.shape)\n",
        "            training_list.append(video)\n",
        "            # break\n",
        "        # break\n",
        "    return training_list, frames_per_vid\n",
        "training_data_2, frames_per_vid = get_training_data()\n",
        "training_data.shape, training_data.dtype, len(frames_per_vid)"
      ],
      "execution_count": null,
      "outputs": [
        {
          "output_type": "stream",
          "text": [
            "['033', '032', '036', '035', '037', '034', '031', '024', '028', '026', '025', '030', '022', '020', '023', '021', '016', '014', '017', '018', '019', '015', '010', '011', '012', '013', '006', '007', '009']\n",
            "033\n"
          ],
          "name": "stdout"
        },
        {
          "output_type": "error",
          "ename": "KeyboardInterrupt",
          "evalue": "ignored",
          "traceback": [
            "\u001b[0;31m---------------------------------------------------------------------------\u001b[0m",
            "\u001b[0;31mKeyboardInterrupt\u001b[0m                         Traceback (most recent call last)",
            "\u001b[0;32m<ipython-input-9-a0fbd6012508>\u001b[0m in \u001b[0;36m<module>\u001b[0;34m()\u001b[0m\n\u001b[1;32m     40\u001b[0m         \u001b[0;31m# break\u001b[0m\u001b[0;34m\u001b[0m\u001b[0;34m\u001b[0m\u001b[0;34m\u001b[0m\u001b[0m\n\u001b[1;32m     41\u001b[0m     \u001b[0;32mreturn\u001b[0m \u001b[0mtraining_list\u001b[0m\u001b[0;34m,\u001b[0m \u001b[0mframes_per_vid\u001b[0m\u001b[0;34m\u001b[0m\u001b[0;34m\u001b[0m\u001b[0m\n\u001b[0;32m---> 42\u001b[0;31m \u001b[0mtraining_data_2\u001b[0m\u001b[0;34m,\u001b[0m \u001b[0mframes_per_vid\u001b[0m \u001b[0;34m=\u001b[0m \u001b[0mget_training_data\u001b[0m\u001b[0;34m(\u001b[0m\u001b[0;34m)\u001b[0m\u001b[0;34m\u001b[0m\u001b[0;34m\u001b[0m\u001b[0m\n\u001b[0m\u001b[1;32m     43\u001b[0m \u001b[0mtraining_data\u001b[0m\u001b[0;34m.\u001b[0m\u001b[0mshape\u001b[0m\u001b[0;34m,\u001b[0m \u001b[0mtraining_data\u001b[0m\u001b[0;34m.\u001b[0m\u001b[0mdtype\u001b[0m\u001b[0;34m,\u001b[0m \u001b[0mlen\u001b[0m\u001b[0;34m(\u001b[0m\u001b[0mframes_per_vid\u001b[0m\u001b[0;34m)\u001b[0m\u001b[0;34m\u001b[0m\u001b[0;34m\u001b[0m\u001b[0m\n",
            "\u001b[0;32m<ipython-input-9-a0fbd6012508>\u001b[0m in \u001b[0;36mget_training_data\u001b[0;34m()\u001b[0m\n\u001b[1;32m     18\u001b[0m                 \u001b[0;31m#frame = cv2.imread(img_path)\u001b[0m\u001b[0;34m\u001b[0m\u001b[0;34m\u001b[0m\u001b[0;34m\u001b[0m\u001b[0m\n\u001b[1;32m     19\u001b[0m                 \u001b[0;31m#print(\"path \", img_path)\u001b[0m\u001b[0;34m\u001b[0m\u001b[0;34m\u001b[0m\u001b[0;34m\u001b[0m\u001b[0m\n\u001b[0;32m---> 20\u001b[0;31m                 \u001b[0mframe\u001b[0m \u001b[0;34m=\u001b[0m \u001b[0mimageio\u001b[0m\u001b[0;34m.\u001b[0m\u001b[0mimread\u001b[0m\u001b[0;34m(\u001b[0m\u001b[0mimg_path\u001b[0m\u001b[0;34m,\u001b[0m \u001b[0;34m'jpg'\u001b[0m\u001b[0;34m)\u001b[0m\u001b[0;34m\u001b[0m\u001b[0;34m\u001b[0m\u001b[0m\n\u001b[0m\u001b[1;32m     21\u001b[0m                 frame = cv2.resize(\n\u001b[1;32m     22\u001b[0m                     frame, (256, 256), interpolation=cv2.INTER_AREA)\n",
            "\u001b[0;32m/usr/local/lib/python3.7/dist-packages/imageio/core/functions.py\u001b[0m in \u001b[0;36mimread\u001b[0;34m(uri, format, **kwargs)\u001b[0m\n\u001b[1;32m    219\u001b[0m \u001b[0;34m\u001b[0m\u001b[0m\n\u001b[1;32m    220\u001b[0m     \u001b[0;31m# Get reader and read first\u001b[0m\u001b[0;34m\u001b[0m\u001b[0;34m\u001b[0m\u001b[0;34m\u001b[0m\u001b[0m\n\u001b[0;32m--> 221\u001b[0;31m     \u001b[0mreader\u001b[0m \u001b[0;34m=\u001b[0m \u001b[0mread\u001b[0m\u001b[0;34m(\u001b[0m\u001b[0muri\u001b[0m\u001b[0;34m,\u001b[0m \u001b[0mformat\u001b[0m\u001b[0;34m,\u001b[0m \u001b[0;34m\"i\"\u001b[0m\u001b[0;34m,\u001b[0m \u001b[0;34m**\u001b[0m\u001b[0mkwargs\u001b[0m\u001b[0;34m)\u001b[0m\u001b[0;34m\u001b[0m\u001b[0;34m\u001b[0m\u001b[0m\n\u001b[0m\u001b[1;32m    222\u001b[0m     \u001b[0;32mwith\u001b[0m \u001b[0mreader\u001b[0m\u001b[0;34m:\u001b[0m\u001b[0;34m\u001b[0m\u001b[0;34m\u001b[0m\u001b[0m\n\u001b[1;32m    223\u001b[0m         \u001b[0;32mreturn\u001b[0m \u001b[0mreader\u001b[0m\u001b[0;34m.\u001b[0m\u001b[0mget_data\u001b[0m\u001b[0;34m(\u001b[0m\u001b[0;36m0\u001b[0m\u001b[0;34m)\u001b[0m\u001b[0;34m\u001b[0m\u001b[0;34m\u001b[0m\u001b[0m\n",
            "\u001b[0;32m/usr/local/lib/python3.7/dist-packages/imageio/core/functions.py\u001b[0m in \u001b[0;36mget_reader\u001b[0;34m(uri, format, mode, **kwargs)\u001b[0m\n\u001b[1;32m    141\u001b[0m \u001b[0;34m\u001b[0m\u001b[0m\n\u001b[1;32m    142\u001b[0m     \u001b[0;31m# Return its reader object\u001b[0m\u001b[0;34m\u001b[0m\u001b[0;34m\u001b[0m\u001b[0;34m\u001b[0m\u001b[0m\n\u001b[0;32m--> 143\u001b[0;31m     \u001b[0;32mreturn\u001b[0m \u001b[0mformat\u001b[0m\u001b[0;34m.\u001b[0m\u001b[0mget_reader\u001b[0m\u001b[0;34m(\u001b[0m\u001b[0mrequest\u001b[0m\u001b[0;34m)\u001b[0m\u001b[0;34m\u001b[0m\u001b[0;34m\u001b[0m\u001b[0m\n\u001b[0m\u001b[1;32m    144\u001b[0m \u001b[0;34m\u001b[0m\u001b[0m\n\u001b[1;32m    145\u001b[0m \u001b[0;34m\u001b[0m\u001b[0m\n",
            "\u001b[0;32m/usr/local/lib/python3.7/dist-packages/imageio/core/format.py\u001b[0m in \u001b[0;36mget_reader\u001b[0;34m(self, request)\u001b[0m\n\u001b[1;32m    172\u001b[0m                 \u001b[0;34m\"Format %s cannot read in mode %r\"\u001b[0m \u001b[0;34m%\u001b[0m \u001b[0;34m(\u001b[0m\u001b[0mself\u001b[0m\u001b[0;34m.\u001b[0m\u001b[0mname\u001b[0m\u001b[0;34m,\u001b[0m \u001b[0mselect_mode\u001b[0m\u001b[0;34m)\u001b[0m\u001b[0;34m\u001b[0m\u001b[0;34m\u001b[0m\u001b[0m\n\u001b[1;32m    173\u001b[0m             )\n\u001b[0;32m--> 174\u001b[0;31m         \u001b[0;32mreturn\u001b[0m \u001b[0mself\u001b[0m\u001b[0;34m.\u001b[0m\u001b[0mReader\u001b[0m\u001b[0;34m(\u001b[0m\u001b[0mself\u001b[0m\u001b[0;34m,\u001b[0m \u001b[0mrequest\u001b[0m\u001b[0;34m)\u001b[0m\u001b[0;34m\u001b[0m\u001b[0;34m\u001b[0m\u001b[0m\n\u001b[0m\u001b[1;32m    175\u001b[0m \u001b[0;34m\u001b[0m\u001b[0m\n\u001b[1;32m    176\u001b[0m     \u001b[0;32mdef\u001b[0m \u001b[0mget_writer\u001b[0m\u001b[0;34m(\u001b[0m\u001b[0mself\u001b[0m\u001b[0;34m,\u001b[0m \u001b[0mrequest\u001b[0m\u001b[0;34m)\u001b[0m\u001b[0;34m:\u001b[0m\u001b[0;34m\u001b[0m\u001b[0;34m\u001b[0m\u001b[0m\n",
            "\u001b[0;32m/usr/local/lib/python3.7/dist-packages/imageio/core/format.py\u001b[0m in \u001b[0;36m__init__\u001b[0;34m(self, format, request)\u001b[0m\n\u001b[1;32m    222\u001b[0m             \u001b[0mself\u001b[0m\u001b[0;34m.\u001b[0m\u001b[0m_request\u001b[0m \u001b[0;34m=\u001b[0m \u001b[0mrequest\u001b[0m\u001b[0;34m\u001b[0m\u001b[0;34m\u001b[0m\u001b[0m\n\u001b[1;32m    223\u001b[0m             \u001b[0;31m# Open the reader/writer\u001b[0m\u001b[0;34m\u001b[0m\u001b[0;34m\u001b[0m\u001b[0;34m\u001b[0m\u001b[0m\n\u001b[0;32m--> 224\u001b[0;31m             \u001b[0mself\u001b[0m\u001b[0;34m.\u001b[0m\u001b[0m_open\u001b[0m\u001b[0;34m(\u001b[0m\u001b[0;34m**\u001b[0m\u001b[0mself\u001b[0m\u001b[0;34m.\u001b[0m\u001b[0mrequest\u001b[0m\u001b[0;34m.\u001b[0m\u001b[0mkwargs\u001b[0m\u001b[0;34m.\u001b[0m\u001b[0mcopy\u001b[0m\u001b[0;34m(\u001b[0m\u001b[0;34m)\u001b[0m\u001b[0;34m)\u001b[0m\u001b[0;34m\u001b[0m\u001b[0;34m\u001b[0m\u001b[0m\n\u001b[0m\u001b[1;32m    225\u001b[0m \u001b[0;34m\u001b[0m\u001b[0m\n\u001b[1;32m    226\u001b[0m         \u001b[0;34m@\u001b[0m\u001b[0mproperty\u001b[0m\u001b[0;34m\u001b[0m\u001b[0;34m\u001b[0m\u001b[0m\n",
            "\u001b[0;32m/usr/local/lib/python3.7/dist-packages/imageio/plugins/pillow.py\u001b[0m in \u001b[0;36m_open\u001b[0;34m(self, pilmode, as_gray, exifrotate)\u001b[0m\n\u001b[1;32m    404\u001b[0m     \u001b[0;32mclass\u001b[0m \u001b[0mReader\u001b[0m\u001b[0;34m(\u001b[0m\u001b[0mPillowFormat\u001b[0m\u001b[0;34m.\u001b[0m\u001b[0mReader\u001b[0m\u001b[0;34m)\u001b[0m\u001b[0;34m:\u001b[0m\u001b[0;34m\u001b[0m\u001b[0;34m\u001b[0m\u001b[0m\n\u001b[1;32m    405\u001b[0m         \u001b[0;32mdef\u001b[0m \u001b[0m_open\u001b[0m\u001b[0;34m(\u001b[0m\u001b[0mself\u001b[0m\u001b[0;34m,\u001b[0m \u001b[0mpilmode\u001b[0m\u001b[0;34m=\u001b[0m\u001b[0;32mNone\u001b[0m\u001b[0;34m,\u001b[0m \u001b[0mas_gray\u001b[0m\u001b[0;34m=\u001b[0m\u001b[0;32mFalse\u001b[0m\u001b[0;34m,\u001b[0m \u001b[0mexifrotate\u001b[0m\u001b[0;34m=\u001b[0m\u001b[0;32mTrue\u001b[0m\u001b[0;34m)\u001b[0m\u001b[0;34m:\u001b[0m\u001b[0;34m\u001b[0m\u001b[0;34m\u001b[0m\u001b[0m\n\u001b[0;32m--> 406\u001b[0;31m             \u001b[0;32mreturn\u001b[0m \u001b[0mPillowFormat\u001b[0m\u001b[0;34m.\u001b[0m\u001b[0mReader\u001b[0m\u001b[0;34m.\u001b[0m\u001b[0m_open\u001b[0m\u001b[0;34m(\u001b[0m\u001b[0mself\u001b[0m\u001b[0;34m,\u001b[0m \u001b[0mpilmode\u001b[0m\u001b[0;34m=\u001b[0m\u001b[0mpilmode\u001b[0m\u001b[0;34m,\u001b[0m \u001b[0mas_gray\u001b[0m\u001b[0;34m=\u001b[0m\u001b[0mas_gray\u001b[0m\u001b[0;34m)\u001b[0m\u001b[0;34m\u001b[0m\u001b[0;34m\u001b[0m\u001b[0m\n\u001b[0m\u001b[1;32m    407\u001b[0m \u001b[0;34m\u001b[0m\u001b[0m\n\u001b[1;32m    408\u001b[0m         \u001b[0;32mdef\u001b[0m \u001b[0m_get_file\u001b[0m\u001b[0;34m(\u001b[0m\u001b[0mself\u001b[0m\u001b[0;34m)\u001b[0m\u001b[0;34m:\u001b[0m\u001b[0;34m\u001b[0m\u001b[0;34m\u001b[0m\u001b[0m\n",
            "\u001b[0;32m/usr/local/lib/python3.7/dist-packages/imageio/plugins/pillow.py\u001b[0m in \u001b[0;36m_open\u001b[0;34m(self, pilmode, as_gray)\u001b[0m\n\u001b[1;32m    120\u001b[0m                 \u001b[0;32mraise\u001b[0m \u001b[0mRuntimeError\u001b[0m\u001b[0;34m(\u001b[0m\u001b[0;34m\"Format %s cannot read images.\"\u001b[0m \u001b[0;34m%\u001b[0m \u001b[0mself\u001b[0m\u001b[0;34m.\u001b[0m\u001b[0mformat\u001b[0m\u001b[0;34m.\u001b[0m\u001b[0mname\u001b[0m\u001b[0;34m)\u001b[0m\u001b[0;34m\u001b[0m\u001b[0;34m\u001b[0m\u001b[0m\n\u001b[1;32m    121\u001b[0m             \u001b[0mself\u001b[0m\u001b[0;34m.\u001b[0m\u001b[0m_fp\u001b[0m \u001b[0;34m=\u001b[0m \u001b[0mself\u001b[0m\u001b[0;34m.\u001b[0m\u001b[0m_get_file\u001b[0m\u001b[0;34m(\u001b[0m\u001b[0;34m)\u001b[0m\u001b[0;34m\u001b[0m\u001b[0;34m\u001b[0m\u001b[0m\n\u001b[0;32m--> 122\u001b[0;31m             \u001b[0mself\u001b[0m\u001b[0;34m.\u001b[0m\u001b[0m_im\u001b[0m \u001b[0;34m=\u001b[0m \u001b[0mfactory\u001b[0m\u001b[0;34m(\u001b[0m\u001b[0mself\u001b[0m\u001b[0;34m.\u001b[0m\u001b[0m_fp\u001b[0m\u001b[0;34m,\u001b[0m \u001b[0;34m\"\"\u001b[0m\u001b[0;34m)\u001b[0m\u001b[0;34m\u001b[0m\u001b[0;34m\u001b[0m\u001b[0m\n\u001b[0m\u001b[1;32m    123\u001b[0m             \u001b[0;32mif\u001b[0m \u001b[0mhasattr\u001b[0m\u001b[0;34m(\u001b[0m\u001b[0mImage\u001b[0m\u001b[0;34m,\u001b[0m \u001b[0;34m\"_decompression_bomb_check\"\u001b[0m\u001b[0;34m)\u001b[0m\u001b[0;34m:\u001b[0m\u001b[0;34m\u001b[0m\u001b[0;34m\u001b[0m\u001b[0m\n\u001b[1;32m    124\u001b[0m                 \u001b[0mImage\u001b[0m\u001b[0;34m.\u001b[0m\u001b[0m_decompression_bomb_check\u001b[0m\u001b[0;34m(\u001b[0m\u001b[0mself\u001b[0m\u001b[0;34m.\u001b[0m\u001b[0m_im\u001b[0m\u001b[0;34m.\u001b[0m\u001b[0msize\u001b[0m\u001b[0;34m)\u001b[0m\u001b[0;34m\u001b[0m\u001b[0;34m\u001b[0m\u001b[0m\n",
            "\u001b[0;32m/usr/local/lib/python3.7/dist-packages/PIL/JpegImagePlugin.py\u001b[0m in \u001b[0;36mjpeg_factory\u001b[0;34m(fp, filename)\u001b[0m\n\u001b[1;32m    777\u001b[0m \u001b[0;31m# Factory for making JPEG and MPO instances\u001b[0m\u001b[0;34m\u001b[0m\u001b[0;34m\u001b[0m\u001b[0;34m\u001b[0m\u001b[0m\n\u001b[1;32m    778\u001b[0m \u001b[0;32mdef\u001b[0m \u001b[0mjpeg_factory\u001b[0m\u001b[0;34m(\u001b[0m\u001b[0mfp\u001b[0m\u001b[0;34m=\u001b[0m\u001b[0;32mNone\u001b[0m\u001b[0;34m,\u001b[0m \u001b[0mfilename\u001b[0m\u001b[0;34m=\u001b[0m\u001b[0;32mNone\u001b[0m\u001b[0;34m)\u001b[0m\u001b[0;34m:\u001b[0m\u001b[0;34m\u001b[0m\u001b[0;34m\u001b[0m\u001b[0m\n\u001b[0;32m--> 779\u001b[0;31m     \u001b[0mim\u001b[0m \u001b[0;34m=\u001b[0m \u001b[0mJpegImageFile\u001b[0m\u001b[0;34m(\u001b[0m\u001b[0mfp\u001b[0m\u001b[0;34m,\u001b[0m \u001b[0mfilename\u001b[0m\u001b[0;34m)\u001b[0m\u001b[0;34m\u001b[0m\u001b[0;34m\u001b[0m\u001b[0m\n\u001b[0m\u001b[1;32m    780\u001b[0m     \u001b[0;32mtry\u001b[0m\u001b[0;34m:\u001b[0m\u001b[0;34m\u001b[0m\u001b[0;34m\u001b[0m\u001b[0m\n\u001b[1;32m    781\u001b[0m         \u001b[0mmpheader\u001b[0m \u001b[0;34m=\u001b[0m \u001b[0mim\u001b[0m\u001b[0;34m.\u001b[0m\u001b[0m_getmp\u001b[0m\u001b[0;34m(\u001b[0m\u001b[0;34m)\u001b[0m\u001b[0;34m\u001b[0m\u001b[0;34m\u001b[0m\u001b[0m\n",
            "\u001b[0;32m/usr/local/lib/python3.7/dist-packages/PIL/ImageFile.py\u001b[0m in \u001b[0;36m__init__\u001b[0;34m(self, fp, filename)\u001b[0m\n\u001b[1;32m    105\u001b[0m         \u001b[0;32mtry\u001b[0m\u001b[0;34m:\u001b[0m\u001b[0;34m\u001b[0m\u001b[0;34m\u001b[0m\u001b[0m\n\u001b[1;32m    106\u001b[0m             \u001b[0;32mtry\u001b[0m\u001b[0;34m:\u001b[0m\u001b[0;34m\u001b[0m\u001b[0;34m\u001b[0m\u001b[0m\n\u001b[0;32m--> 107\u001b[0;31m                 \u001b[0mself\u001b[0m\u001b[0;34m.\u001b[0m\u001b[0m_open\u001b[0m\u001b[0;34m(\u001b[0m\u001b[0;34m)\u001b[0m\u001b[0;34m\u001b[0m\u001b[0;34m\u001b[0m\u001b[0m\n\u001b[0m\u001b[1;32m    108\u001b[0m             except (\n\u001b[1;32m    109\u001b[0m                 \u001b[0mIndexError\u001b[0m\u001b[0;34m,\u001b[0m  \u001b[0;31m# end of data\u001b[0m\u001b[0;34m\u001b[0m\u001b[0;34m\u001b[0m\u001b[0m\n",
            "\u001b[0;32m/usr/local/lib/python3.7/dist-packages/PIL/JpegImagePlugin.py\u001b[0m in \u001b[0;36m_open\u001b[0;34m(self)\u001b[0m\n\u001b[1;32m    338\u001b[0m     \u001b[0;32mdef\u001b[0m \u001b[0m_open\u001b[0m\u001b[0;34m(\u001b[0m\u001b[0mself\u001b[0m\u001b[0;34m)\u001b[0m\u001b[0;34m:\u001b[0m\u001b[0;34m\u001b[0m\u001b[0;34m\u001b[0m\u001b[0m\n\u001b[1;32m    339\u001b[0m \u001b[0;34m\u001b[0m\u001b[0m\n\u001b[0;32m--> 340\u001b[0;31m         \u001b[0ms\u001b[0m \u001b[0;34m=\u001b[0m \u001b[0mself\u001b[0m\u001b[0;34m.\u001b[0m\u001b[0mfp\u001b[0m\u001b[0;34m.\u001b[0m\u001b[0mread\u001b[0m\u001b[0;34m(\u001b[0m\u001b[0;36m1\u001b[0m\u001b[0;34m)\u001b[0m\u001b[0;34m\u001b[0m\u001b[0;34m\u001b[0m\u001b[0m\n\u001b[0m\u001b[1;32m    341\u001b[0m \u001b[0;34m\u001b[0m\u001b[0m\n\u001b[1;32m    342\u001b[0m         \u001b[0;32mif\u001b[0m \u001b[0mi8\u001b[0m\u001b[0;34m(\u001b[0m\u001b[0ms\u001b[0m\u001b[0;34m)\u001b[0m \u001b[0;34m!=\u001b[0m \u001b[0;36m255\u001b[0m\u001b[0;34m:\u001b[0m\u001b[0;34m\u001b[0m\u001b[0;34m\u001b[0m\u001b[0m\n",
            "\u001b[0;31mKeyboardInterrupt\u001b[0m: "
          ]
        }
      ]
    },
    {
      "cell_type": "code",
      "metadata": {
        "colab": {
          "base_uri": "https://localhost:8080/"
        },
        "id": "2PY5Ew9x3DJB",
        "outputId": "9fdb2b53-e907-49d5-d9ea-241f88f4981b"
      },
      "source": [
        "train = np.load('/content/drive/MyDrive/data_256.npy')\n",
        "train.shape"
      ],
      "execution_count": 21,
      "outputs": [
        {
          "output_type": "execute_result",
          "data": {
            "text/plain": [
              "(137, 256, 256, 50)"
            ]
          },
          "metadata": {
            "tags": []
          },
          "execution_count": 21
        }
      ]
    },
    {
      "cell_type": "code",
      "metadata": {
        "id": "2ZTW3X_R8EUX",
        "colab": {
          "base_uri": "https://localhost:8080/"
        },
        "outputId": "0808c304-0a31-499f-8230-b64366c3243b"
      },
      "source": [
        "y_labels = np.load('/content/drive/MyDrive/labelspre.npy')\n",
        "y_labels.shape"
      ],
      "execution_count": 22,
      "outputs": [
        {
          "output_type": "execute_result",
          "data": {
            "text/plain": [
              "(137, 8)"
            ]
          },
          "metadata": {
            "tags": []
          },
          "execution_count": 22
        }
      ]
    },
    {
      "cell_type": "code",
      "metadata": {
        "colab": {
          "base_uri": "https://localhost:8080/"
        },
        "id": "GQRHVxWn9_A0",
        "outputId": "ef3efea8-6dcf-44b5-aa54-faaaa8437e29"
      },
      "source": [
        "\n",
        "model1 = models.Sequential()\n",
        "model1.add(layers.Conv2D(32, (3,3), input_shape = (256, 256, 1), activation = 'relu'))\n",
        "model1.add(layers.MaxPooling2D(pool_size = (2,2)))\n",
        "model1.add(layers.Dropout(0.05))\n",
        "model1.add(layers.Conv2D(64, (3,3), activation = 'relu'))\n",
        "model1.add(layers.MaxPooling2D(pool_size = (2,2)))\n",
        "model1.add(layers.Dropout(0.35))\n",
        "model1.add(layers.Flatten())\n",
        "model1.add(layers.Dense(200,activation = 'relu'))\n",
        "model1.add(layers.Dense(8, activation = 'softmax'))\n",
        "model1.compile(loss = tf.keras.losses.CategoricalCrossentropy(),optimizer= 'adam',\n",
        "              metrics = ['accuracy'])\n",
        "model1.summary()"
      ],
      "execution_count": 19,
      "outputs": [
        {
          "output_type": "stream",
          "text": [
            "Model: \"sequential_2\"\n",
            "_________________________________________________________________\n",
            "Layer (type)                 Output Shape              Param #   \n",
            "=================================================================\n",
            "conv2d_4 (Conv2D)            (None, 254, 254, 32)      320       \n",
            "_________________________________________________________________\n",
            "max_pooling2d_4 (MaxPooling2 (None, 127, 127, 32)      0         \n",
            "_________________________________________________________________\n",
            "dropout_4 (Dropout)          (None, 127, 127, 32)      0         \n",
            "_________________________________________________________________\n",
            "conv2d_5 (Conv2D)            (None, 125, 125, 64)      18496     \n",
            "_________________________________________________________________\n",
            "max_pooling2d_5 (MaxPooling2 (None, 62, 62, 64)        0         \n",
            "_________________________________________________________________\n",
            "dropout_5 (Dropout)          (None, 62, 62, 64)        0         \n",
            "_________________________________________________________________\n",
            "flatten_2 (Flatten)          (None, 246016)            0         \n",
            "_________________________________________________________________\n",
            "dense_4 (Dense)              (None, 200)               49203400  \n",
            "_________________________________________________________________\n",
            "dense_5 (Dense)              (None, 8)                 1608      \n",
            "=================================================================\n",
            "Total params: 49,223,824\n",
            "Trainable params: 49,223,824\n",
            "Non-trainable params: 0\n",
            "_________________________________________________________________\n"
          ],
          "name": "stdout"
        }
      ]
    },
    {
      "cell_type": "code",
      "metadata": {
        "colab": {
          "base_uri": "https://localhost:8080/"
        },
        "id": "qLDCY2Ro_XAq",
        "outputId": "f19501cb-0571-4e11-b969-accab95f92da"
      },
      "source": [
        "from sklearn.model_selection import train_test_split\n",
        "X_train, X_test, y_train, y_test = train_test_split(train,y_labels,test_size=0.2, random_state = 42)\n",
        "# X_train = np.reshape(X_train,(X_train.shap*50,64,64))\n",
        "X_train = np.reshape(X_train,(X_train.shape[0]*50,X_train.shape[1],X_train.shape[2],1))\n",
        "X_test = np.reshape(X_test,(X_test.shape[0]*50,X_test.shape[1],X_test.shape[2],1))\n",
        "y_labels_train = np.zeros((y_train.shape[0]*50,8))\n",
        "y_labels_test = np.zeros((y_test.shape[0]*50,8))\n",
        "k = 0\n",
        "#print(y_train.shape,y_labels.shape,X_train.shape)\n",
        "for i in range(y_train.shape[0]):\n",
        "    y_labels_train[k:k+50] = y_train[i]\n",
        "    k += 50\n",
        "for i in range(y_test.shape[0]):\n",
        "    y_labels_test[k:k+50] = y_test[i]\n",
        "    k += 50\n",
        "X_train.shape,X_test.shape,y_labels_train.shape,y_labels_test.shape"
      ],
      "execution_count": 23,
      "outputs": [
        {
          "output_type": "execute_result",
          "data": {
            "text/plain": [
              "((5450, 256, 256, 1), (1400, 256, 256, 1), (5450, 8), (1400, 8))"
            ]
          },
          "metadata": {
            "tags": []
          },
          "execution_count": 23
        }
      ]
    },
    {
      "cell_type": "code",
      "metadata": {
        "colab": {
          "base_uri": "https://localhost:8080/",
          "height": 370
        },
        "id": "gzWRRXga7cSB",
        "outputId": "ffd0571a-c91d-49f2-a956-6f870774c749"
      },
      "source": [
        "model1.fit(X_train,y_labels_train,validation_data=(X_test,y_labels_test),epochs=50,batch_size=50)"
      ],
      "execution_count": 24,
      "outputs": [
        {
          "output_type": "stream",
          "text": [
            "Epoch 1/50\n",
            "109/109 [==============================] - 11s 97ms/step - loss: 991.4598 - accuracy: 0.2034 - val_loss: 0.0000e+00 - val_accuracy: 1.0000\n",
            "Epoch 2/50\n",
            " 52/109 [=============>................] - ETA: 5s - loss: 1.9768 - accuracy: 0.3213"
          ],
          "name": "stdout"
        },
        {
          "output_type": "error",
          "ename": "KeyboardInterrupt",
          "evalue": "ignored",
          "traceback": [
            "\u001b[0;31m---------------------------------------------------------------------------\u001b[0m",
            "\u001b[0;31mKeyboardInterrupt\u001b[0m                         Traceback (most recent call last)",
            "\u001b[0;32m<ipython-input-24-0169a3612bd5>\u001b[0m in \u001b[0;36m<module>\u001b[0;34m()\u001b[0m\n\u001b[0;32m----> 1\u001b[0;31m \u001b[0mmodel1\u001b[0m\u001b[0;34m.\u001b[0m\u001b[0mfit\u001b[0m\u001b[0;34m(\u001b[0m\u001b[0mX_train\u001b[0m\u001b[0;34m,\u001b[0m\u001b[0my_labels_train\u001b[0m\u001b[0;34m,\u001b[0m\u001b[0mvalidation_data\u001b[0m\u001b[0;34m=\u001b[0m\u001b[0;34m(\u001b[0m\u001b[0mX_test\u001b[0m\u001b[0;34m,\u001b[0m\u001b[0my_labels_test\u001b[0m\u001b[0;34m)\u001b[0m\u001b[0;34m,\u001b[0m\u001b[0mepochs\u001b[0m\u001b[0;34m=\u001b[0m\u001b[0;36m50\u001b[0m\u001b[0;34m,\u001b[0m\u001b[0mbatch_size\u001b[0m\u001b[0;34m=\u001b[0m\u001b[0;36m50\u001b[0m\u001b[0;34m)\u001b[0m\u001b[0;34m\u001b[0m\u001b[0;34m\u001b[0m\u001b[0m\n\u001b[0m",
            "\u001b[0;32m/usr/local/lib/python3.7/dist-packages/tensorflow/python/keras/engine/training.py\u001b[0m in \u001b[0;36mfit\u001b[0;34m(self, x, y, batch_size, epochs, verbose, callbacks, validation_split, validation_data, shuffle, class_weight, sample_weight, initial_epoch, steps_per_epoch, validation_steps, validation_batch_size, validation_freq, max_queue_size, workers, use_multiprocessing)\u001b[0m\n\u001b[1;32m   1103\u001b[0m               \u001b[0mlogs\u001b[0m \u001b[0;34m=\u001b[0m \u001b[0mtmp_logs\u001b[0m  \u001b[0;31m# No error, now safe to assign to logs.\u001b[0m\u001b[0;34m\u001b[0m\u001b[0;34m\u001b[0m\u001b[0m\n\u001b[1;32m   1104\u001b[0m               \u001b[0mend_step\u001b[0m \u001b[0;34m=\u001b[0m \u001b[0mstep\u001b[0m \u001b[0;34m+\u001b[0m \u001b[0mdata_handler\u001b[0m\u001b[0;34m.\u001b[0m\u001b[0mstep_increment\u001b[0m\u001b[0;34m\u001b[0m\u001b[0;34m\u001b[0m\u001b[0m\n\u001b[0;32m-> 1105\u001b[0;31m               \u001b[0mcallbacks\u001b[0m\u001b[0;34m.\u001b[0m\u001b[0mon_train_batch_end\u001b[0m\u001b[0;34m(\u001b[0m\u001b[0mend_step\u001b[0m\u001b[0;34m,\u001b[0m \u001b[0mlogs\u001b[0m\u001b[0;34m)\u001b[0m\u001b[0;34m\u001b[0m\u001b[0;34m\u001b[0m\u001b[0m\n\u001b[0m\u001b[1;32m   1106\u001b[0m               \u001b[0;32mif\u001b[0m \u001b[0mself\u001b[0m\u001b[0;34m.\u001b[0m\u001b[0mstop_training\u001b[0m\u001b[0;34m:\u001b[0m\u001b[0;34m\u001b[0m\u001b[0;34m\u001b[0m\u001b[0m\n\u001b[1;32m   1107\u001b[0m                 \u001b[0;32mbreak\u001b[0m\u001b[0;34m\u001b[0m\u001b[0;34m\u001b[0m\u001b[0m\n",
            "\u001b[0;32m/usr/local/lib/python3.7/dist-packages/tensorflow/python/keras/callbacks.py\u001b[0m in \u001b[0;36mon_train_batch_end\u001b[0;34m(self, batch, logs)\u001b[0m\n\u001b[1;32m    452\u001b[0m     \"\"\"\n\u001b[1;32m    453\u001b[0m     \u001b[0;32mif\u001b[0m \u001b[0mself\u001b[0m\u001b[0;34m.\u001b[0m\u001b[0m_should_call_train_batch_hooks\u001b[0m\u001b[0;34m:\u001b[0m\u001b[0;34m\u001b[0m\u001b[0;34m\u001b[0m\u001b[0m\n\u001b[0;32m--> 454\u001b[0;31m       \u001b[0mself\u001b[0m\u001b[0;34m.\u001b[0m\u001b[0m_call_batch_hook\u001b[0m\u001b[0;34m(\u001b[0m\u001b[0mModeKeys\u001b[0m\u001b[0;34m.\u001b[0m\u001b[0mTRAIN\u001b[0m\u001b[0;34m,\u001b[0m \u001b[0;34m'end'\u001b[0m\u001b[0;34m,\u001b[0m \u001b[0mbatch\u001b[0m\u001b[0;34m,\u001b[0m \u001b[0mlogs\u001b[0m\u001b[0;34m=\u001b[0m\u001b[0mlogs\u001b[0m\u001b[0;34m)\u001b[0m\u001b[0;34m\u001b[0m\u001b[0;34m\u001b[0m\u001b[0m\n\u001b[0m\u001b[1;32m    455\u001b[0m \u001b[0;34m\u001b[0m\u001b[0m\n\u001b[1;32m    456\u001b[0m   \u001b[0;32mdef\u001b[0m \u001b[0mon_test_batch_begin\u001b[0m\u001b[0;34m(\u001b[0m\u001b[0mself\u001b[0m\u001b[0;34m,\u001b[0m \u001b[0mbatch\u001b[0m\u001b[0;34m,\u001b[0m \u001b[0mlogs\u001b[0m\u001b[0;34m=\u001b[0m\u001b[0;32mNone\u001b[0m\u001b[0;34m)\u001b[0m\u001b[0;34m:\u001b[0m\u001b[0;34m\u001b[0m\u001b[0;34m\u001b[0m\u001b[0m\n",
            "\u001b[0;32m/usr/local/lib/python3.7/dist-packages/tensorflow/python/keras/callbacks.py\u001b[0m in \u001b[0;36m_call_batch_hook\u001b[0;34m(self, mode, hook, batch, logs)\u001b[0m\n\u001b[1;32m    294\u001b[0m       \u001b[0mself\u001b[0m\u001b[0;34m.\u001b[0m\u001b[0m_call_batch_begin_hook\u001b[0m\u001b[0;34m(\u001b[0m\u001b[0mmode\u001b[0m\u001b[0;34m,\u001b[0m \u001b[0mbatch\u001b[0m\u001b[0;34m,\u001b[0m \u001b[0mlogs\u001b[0m\u001b[0;34m)\u001b[0m\u001b[0;34m\u001b[0m\u001b[0;34m\u001b[0m\u001b[0m\n\u001b[1;32m    295\u001b[0m     \u001b[0;32melif\u001b[0m \u001b[0mhook\u001b[0m \u001b[0;34m==\u001b[0m \u001b[0;34m'end'\u001b[0m\u001b[0;34m:\u001b[0m\u001b[0;34m\u001b[0m\u001b[0;34m\u001b[0m\u001b[0m\n\u001b[0;32m--> 296\u001b[0;31m       \u001b[0mself\u001b[0m\u001b[0;34m.\u001b[0m\u001b[0m_call_batch_end_hook\u001b[0m\u001b[0;34m(\u001b[0m\u001b[0mmode\u001b[0m\u001b[0;34m,\u001b[0m \u001b[0mbatch\u001b[0m\u001b[0;34m,\u001b[0m \u001b[0mlogs\u001b[0m\u001b[0;34m)\u001b[0m\u001b[0;34m\u001b[0m\u001b[0;34m\u001b[0m\u001b[0m\n\u001b[0m\u001b[1;32m    297\u001b[0m     \u001b[0;32melse\u001b[0m\u001b[0;34m:\u001b[0m\u001b[0;34m\u001b[0m\u001b[0;34m\u001b[0m\u001b[0m\n\u001b[1;32m    298\u001b[0m       \u001b[0;32mraise\u001b[0m \u001b[0mValueError\u001b[0m\u001b[0;34m(\u001b[0m\u001b[0;34m'Unrecognized hook: {}'\u001b[0m\u001b[0;34m.\u001b[0m\u001b[0mformat\u001b[0m\u001b[0;34m(\u001b[0m\u001b[0mhook\u001b[0m\u001b[0;34m)\u001b[0m\u001b[0;34m)\u001b[0m\u001b[0;34m\u001b[0m\u001b[0;34m\u001b[0m\u001b[0m\n",
            "\u001b[0;32m/usr/local/lib/python3.7/dist-packages/tensorflow/python/keras/callbacks.py\u001b[0m in \u001b[0;36m_call_batch_end_hook\u001b[0;34m(self, mode, batch, logs)\u001b[0m\n\u001b[1;32m    314\u001b[0m       \u001b[0mself\u001b[0m\u001b[0;34m.\u001b[0m\u001b[0m_batch_times\u001b[0m\u001b[0;34m.\u001b[0m\u001b[0mappend\u001b[0m\u001b[0;34m(\u001b[0m\u001b[0mbatch_time\u001b[0m\u001b[0;34m)\u001b[0m\u001b[0;34m\u001b[0m\u001b[0;34m\u001b[0m\u001b[0m\n\u001b[1;32m    315\u001b[0m \u001b[0;34m\u001b[0m\u001b[0m\n\u001b[0;32m--> 316\u001b[0;31m     \u001b[0mself\u001b[0m\u001b[0;34m.\u001b[0m\u001b[0m_call_batch_hook_helper\u001b[0m\u001b[0;34m(\u001b[0m\u001b[0mhook_name\u001b[0m\u001b[0;34m,\u001b[0m \u001b[0mbatch\u001b[0m\u001b[0;34m,\u001b[0m \u001b[0mlogs\u001b[0m\u001b[0;34m)\u001b[0m\u001b[0;34m\u001b[0m\u001b[0;34m\u001b[0m\u001b[0m\n\u001b[0m\u001b[1;32m    317\u001b[0m \u001b[0;34m\u001b[0m\u001b[0m\n\u001b[1;32m    318\u001b[0m     \u001b[0;32mif\u001b[0m \u001b[0mlen\u001b[0m\u001b[0;34m(\u001b[0m\u001b[0mself\u001b[0m\u001b[0;34m.\u001b[0m\u001b[0m_batch_times\u001b[0m\u001b[0;34m)\u001b[0m \u001b[0;34m>=\u001b[0m \u001b[0mself\u001b[0m\u001b[0;34m.\u001b[0m\u001b[0m_num_batches_for_timing_check\u001b[0m\u001b[0;34m:\u001b[0m\u001b[0;34m\u001b[0m\u001b[0;34m\u001b[0m\u001b[0m\n",
            "\u001b[0;32m/usr/local/lib/python3.7/dist-packages/tensorflow/python/keras/callbacks.py\u001b[0m in \u001b[0;36m_call_batch_hook_helper\u001b[0;34m(self, hook_name, batch, logs)\u001b[0m\n\u001b[1;32m    354\u001b[0m       \u001b[0mhook\u001b[0m \u001b[0;34m=\u001b[0m \u001b[0mgetattr\u001b[0m\u001b[0;34m(\u001b[0m\u001b[0mcallback\u001b[0m\u001b[0;34m,\u001b[0m \u001b[0mhook_name\u001b[0m\u001b[0;34m)\u001b[0m\u001b[0;34m\u001b[0m\u001b[0;34m\u001b[0m\u001b[0m\n\u001b[1;32m    355\u001b[0m       \u001b[0;32mif\u001b[0m \u001b[0mgetattr\u001b[0m\u001b[0;34m(\u001b[0m\u001b[0mcallback\u001b[0m\u001b[0;34m,\u001b[0m \u001b[0;34m'_supports_tf_logs'\u001b[0m\u001b[0;34m,\u001b[0m \u001b[0;32mFalse\u001b[0m\u001b[0;34m)\u001b[0m\u001b[0;34m:\u001b[0m\u001b[0;34m\u001b[0m\u001b[0;34m\u001b[0m\u001b[0m\n\u001b[0;32m--> 356\u001b[0;31m         \u001b[0mhook\u001b[0m\u001b[0;34m(\u001b[0m\u001b[0mbatch\u001b[0m\u001b[0;34m,\u001b[0m \u001b[0mlogs\u001b[0m\u001b[0;34m)\u001b[0m\u001b[0;34m\u001b[0m\u001b[0;34m\u001b[0m\u001b[0m\n\u001b[0m\u001b[1;32m    357\u001b[0m       \u001b[0;32melse\u001b[0m\u001b[0;34m:\u001b[0m\u001b[0;34m\u001b[0m\u001b[0;34m\u001b[0m\u001b[0m\n\u001b[1;32m    358\u001b[0m         \u001b[0;32mif\u001b[0m \u001b[0mnumpy_logs\u001b[0m \u001b[0;32mis\u001b[0m \u001b[0;32mNone\u001b[0m\u001b[0;34m:\u001b[0m  \u001b[0;31m# Only convert once.\u001b[0m\u001b[0;34m\u001b[0m\u001b[0;34m\u001b[0m\u001b[0m\n",
            "\u001b[0;32m/usr/local/lib/python3.7/dist-packages/tensorflow/python/keras/callbacks.py\u001b[0m in \u001b[0;36mon_train_batch_end\u001b[0;34m(self, batch, logs)\u001b[0m\n\u001b[1;32m   1018\u001b[0m \u001b[0;34m\u001b[0m\u001b[0m\n\u001b[1;32m   1019\u001b[0m   \u001b[0;32mdef\u001b[0m \u001b[0mon_train_batch_end\u001b[0m\u001b[0;34m(\u001b[0m\u001b[0mself\u001b[0m\u001b[0;34m,\u001b[0m \u001b[0mbatch\u001b[0m\u001b[0;34m,\u001b[0m \u001b[0mlogs\u001b[0m\u001b[0;34m=\u001b[0m\u001b[0;32mNone\u001b[0m\u001b[0;34m)\u001b[0m\u001b[0;34m:\u001b[0m\u001b[0;34m\u001b[0m\u001b[0;34m\u001b[0m\u001b[0m\n\u001b[0;32m-> 1020\u001b[0;31m     \u001b[0mself\u001b[0m\u001b[0;34m.\u001b[0m\u001b[0m_batch_update_progbar\u001b[0m\u001b[0;34m(\u001b[0m\u001b[0mbatch\u001b[0m\u001b[0;34m,\u001b[0m \u001b[0mlogs\u001b[0m\u001b[0;34m)\u001b[0m\u001b[0;34m\u001b[0m\u001b[0;34m\u001b[0m\u001b[0m\n\u001b[0m\u001b[1;32m   1021\u001b[0m \u001b[0;34m\u001b[0m\u001b[0m\n\u001b[1;32m   1022\u001b[0m   \u001b[0;32mdef\u001b[0m \u001b[0mon_test_batch_end\u001b[0m\u001b[0;34m(\u001b[0m\u001b[0mself\u001b[0m\u001b[0;34m,\u001b[0m \u001b[0mbatch\u001b[0m\u001b[0;34m,\u001b[0m \u001b[0mlogs\u001b[0m\u001b[0;34m=\u001b[0m\u001b[0;32mNone\u001b[0m\u001b[0;34m)\u001b[0m\u001b[0;34m:\u001b[0m\u001b[0;34m\u001b[0m\u001b[0;34m\u001b[0m\u001b[0m\n",
            "\u001b[0;32m/usr/local/lib/python3.7/dist-packages/tensorflow/python/keras/callbacks.py\u001b[0m in \u001b[0;36m_batch_update_progbar\u001b[0;34m(self, batch, logs)\u001b[0m\n\u001b[1;32m   1082\u001b[0m     \u001b[0;32mif\u001b[0m \u001b[0mself\u001b[0m\u001b[0;34m.\u001b[0m\u001b[0mverbose\u001b[0m \u001b[0;34m==\u001b[0m \u001b[0;36m1\u001b[0m\u001b[0;34m:\u001b[0m\u001b[0;34m\u001b[0m\u001b[0;34m\u001b[0m\u001b[0m\n\u001b[1;32m   1083\u001b[0m       \u001b[0;31m# Only block async when verbose = 1.\u001b[0m\u001b[0;34m\u001b[0m\u001b[0;34m\u001b[0m\u001b[0;34m\u001b[0m\u001b[0m\n\u001b[0;32m-> 1084\u001b[0;31m       \u001b[0mlogs\u001b[0m \u001b[0;34m=\u001b[0m \u001b[0mtf_utils\u001b[0m\u001b[0;34m.\u001b[0m\u001b[0mto_numpy_or_python_type\u001b[0m\u001b[0;34m(\u001b[0m\u001b[0mlogs\u001b[0m\u001b[0;34m)\u001b[0m\u001b[0;34m\u001b[0m\u001b[0;34m\u001b[0m\u001b[0m\n\u001b[0m\u001b[1;32m   1085\u001b[0m       \u001b[0mself\u001b[0m\u001b[0;34m.\u001b[0m\u001b[0mprogbar\u001b[0m\u001b[0;34m.\u001b[0m\u001b[0mupdate\u001b[0m\u001b[0;34m(\u001b[0m\u001b[0mself\u001b[0m\u001b[0;34m.\u001b[0m\u001b[0mseen\u001b[0m\u001b[0;34m,\u001b[0m \u001b[0mlist\u001b[0m\u001b[0;34m(\u001b[0m\u001b[0mlogs\u001b[0m\u001b[0;34m.\u001b[0m\u001b[0mitems\u001b[0m\u001b[0;34m(\u001b[0m\u001b[0;34m)\u001b[0m\u001b[0;34m)\u001b[0m\u001b[0;34m,\u001b[0m \u001b[0mfinalize\u001b[0m\u001b[0;34m=\u001b[0m\u001b[0;32mFalse\u001b[0m\u001b[0;34m)\u001b[0m\u001b[0;34m\u001b[0m\u001b[0;34m\u001b[0m\u001b[0m\n\u001b[1;32m   1086\u001b[0m \u001b[0;34m\u001b[0m\u001b[0m\n",
            "\u001b[0;32m/usr/local/lib/python3.7/dist-packages/tensorflow/python/keras/utils/tf_utils.py\u001b[0m in \u001b[0;36mto_numpy_or_python_type\u001b[0;34m(tensors)\u001b[0m\n\u001b[1;32m    512\u001b[0m     \u001b[0;32mreturn\u001b[0m \u001b[0mt\u001b[0m  \u001b[0;31m# Don't turn ragged or sparse tensors to NumPy.\u001b[0m\u001b[0;34m\u001b[0m\u001b[0;34m\u001b[0m\u001b[0m\n\u001b[1;32m    513\u001b[0m \u001b[0;34m\u001b[0m\u001b[0m\n\u001b[0;32m--> 514\u001b[0;31m   \u001b[0;32mreturn\u001b[0m \u001b[0mnest\u001b[0m\u001b[0;34m.\u001b[0m\u001b[0mmap_structure\u001b[0m\u001b[0;34m(\u001b[0m\u001b[0m_to_single_numpy_or_python_type\u001b[0m\u001b[0;34m,\u001b[0m \u001b[0mtensors\u001b[0m\u001b[0;34m)\u001b[0m\u001b[0;34m\u001b[0m\u001b[0;34m\u001b[0m\u001b[0m\n\u001b[0m\u001b[1;32m    515\u001b[0m \u001b[0;34m\u001b[0m\u001b[0m\n\u001b[1;32m    516\u001b[0m \u001b[0;34m\u001b[0m\u001b[0m\n",
            "\u001b[0;32m/usr/local/lib/python3.7/dist-packages/tensorflow/python/util/nest.py\u001b[0m in \u001b[0;36mmap_structure\u001b[0;34m(func, *structure, **kwargs)\u001b[0m\n\u001b[1;32m    657\u001b[0m \u001b[0;34m\u001b[0m\u001b[0m\n\u001b[1;32m    658\u001b[0m   return pack_sequence_as(\n\u001b[0;32m--> 659\u001b[0;31m       \u001b[0mstructure\u001b[0m\u001b[0;34m[\u001b[0m\u001b[0;36m0\u001b[0m\u001b[0;34m]\u001b[0m\u001b[0;34m,\u001b[0m \u001b[0;34m[\u001b[0m\u001b[0mfunc\u001b[0m\u001b[0;34m(\u001b[0m\u001b[0;34m*\u001b[0m\u001b[0mx\u001b[0m\u001b[0;34m)\u001b[0m \u001b[0;32mfor\u001b[0m \u001b[0mx\u001b[0m \u001b[0;32min\u001b[0m \u001b[0mentries\u001b[0m\u001b[0;34m]\u001b[0m\u001b[0;34m,\u001b[0m\u001b[0;34m\u001b[0m\u001b[0;34m\u001b[0m\u001b[0m\n\u001b[0m\u001b[1;32m    660\u001b[0m       expand_composites=expand_composites)\n\u001b[1;32m    661\u001b[0m \u001b[0;34m\u001b[0m\u001b[0m\n",
            "\u001b[0;32m/usr/local/lib/python3.7/dist-packages/tensorflow/python/util/nest.py\u001b[0m in \u001b[0;36m<listcomp>\u001b[0;34m(.0)\u001b[0m\n\u001b[1;32m    657\u001b[0m \u001b[0;34m\u001b[0m\u001b[0m\n\u001b[1;32m    658\u001b[0m   return pack_sequence_as(\n\u001b[0;32m--> 659\u001b[0;31m       \u001b[0mstructure\u001b[0m\u001b[0;34m[\u001b[0m\u001b[0;36m0\u001b[0m\u001b[0;34m]\u001b[0m\u001b[0;34m,\u001b[0m \u001b[0;34m[\u001b[0m\u001b[0mfunc\u001b[0m\u001b[0;34m(\u001b[0m\u001b[0;34m*\u001b[0m\u001b[0mx\u001b[0m\u001b[0;34m)\u001b[0m \u001b[0;32mfor\u001b[0m \u001b[0mx\u001b[0m \u001b[0;32min\u001b[0m \u001b[0mentries\u001b[0m\u001b[0;34m]\u001b[0m\u001b[0;34m,\u001b[0m\u001b[0;34m\u001b[0m\u001b[0;34m\u001b[0m\u001b[0m\n\u001b[0m\u001b[1;32m    660\u001b[0m       expand_composites=expand_composites)\n\u001b[1;32m    661\u001b[0m \u001b[0;34m\u001b[0m\u001b[0m\n",
            "\u001b[0;32m/usr/local/lib/python3.7/dist-packages/tensorflow/python/keras/utils/tf_utils.py\u001b[0m in \u001b[0;36m_to_single_numpy_or_python_type\u001b[0;34m(t)\u001b[0m\n\u001b[1;32m    508\u001b[0m   \u001b[0;32mdef\u001b[0m \u001b[0m_to_single_numpy_or_python_type\u001b[0m\u001b[0;34m(\u001b[0m\u001b[0mt\u001b[0m\u001b[0;34m)\u001b[0m\u001b[0;34m:\u001b[0m\u001b[0;34m\u001b[0m\u001b[0;34m\u001b[0m\u001b[0m\n\u001b[1;32m    509\u001b[0m     \u001b[0;32mif\u001b[0m \u001b[0misinstance\u001b[0m\u001b[0;34m(\u001b[0m\u001b[0mt\u001b[0m\u001b[0;34m,\u001b[0m \u001b[0mops\u001b[0m\u001b[0;34m.\u001b[0m\u001b[0mTensor\u001b[0m\u001b[0;34m)\u001b[0m\u001b[0;34m:\u001b[0m\u001b[0;34m\u001b[0m\u001b[0;34m\u001b[0m\u001b[0m\n\u001b[0;32m--> 510\u001b[0;31m       \u001b[0mx\u001b[0m \u001b[0;34m=\u001b[0m \u001b[0mt\u001b[0m\u001b[0;34m.\u001b[0m\u001b[0mnumpy\u001b[0m\u001b[0;34m(\u001b[0m\u001b[0;34m)\u001b[0m\u001b[0;34m\u001b[0m\u001b[0;34m\u001b[0m\u001b[0m\n\u001b[0m\u001b[1;32m    511\u001b[0m       \u001b[0;32mreturn\u001b[0m \u001b[0mx\u001b[0m\u001b[0;34m.\u001b[0m\u001b[0mitem\u001b[0m\u001b[0;34m(\u001b[0m\u001b[0;34m)\u001b[0m \u001b[0;32mif\u001b[0m \u001b[0mnp\u001b[0m\u001b[0;34m.\u001b[0m\u001b[0mndim\u001b[0m\u001b[0;34m(\u001b[0m\u001b[0mx\u001b[0m\u001b[0;34m)\u001b[0m \u001b[0;34m==\u001b[0m \u001b[0;36m0\u001b[0m \u001b[0;32melse\u001b[0m \u001b[0mx\u001b[0m\u001b[0;34m\u001b[0m\u001b[0;34m\u001b[0m\u001b[0m\n\u001b[1;32m    512\u001b[0m     \u001b[0;32mreturn\u001b[0m \u001b[0mt\u001b[0m  \u001b[0;31m# Don't turn ragged or sparse tensors to NumPy.\u001b[0m\u001b[0;34m\u001b[0m\u001b[0;34m\u001b[0m\u001b[0m\n",
            "\u001b[0;32m/usr/local/lib/python3.7/dist-packages/tensorflow/python/framework/ops.py\u001b[0m in \u001b[0;36mnumpy\u001b[0;34m(self)\u001b[0m\n\u001b[1;32m   1069\u001b[0m     \"\"\"\n\u001b[1;32m   1070\u001b[0m     \u001b[0;31m# TODO(slebedev): Consider avoiding a copy for non-CPU or remote tensors.\u001b[0m\u001b[0;34m\u001b[0m\u001b[0;34m\u001b[0m\u001b[0;34m\u001b[0m\u001b[0m\n\u001b[0;32m-> 1071\u001b[0;31m     \u001b[0mmaybe_arr\u001b[0m \u001b[0;34m=\u001b[0m \u001b[0mself\u001b[0m\u001b[0;34m.\u001b[0m\u001b[0m_numpy\u001b[0m\u001b[0;34m(\u001b[0m\u001b[0;34m)\u001b[0m  \u001b[0;31m# pylint: disable=protected-access\u001b[0m\u001b[0;34m\u001b[0m\u001b[0;34m\u001b[0m\u001b[0m\n\u001b[0m\u001b[1;32m   1072\u001b[0m     \u001b[0;32mreturn\u001b[0m \u001b[0mmaybe_arr\u001b[0m\u001b[0;34m.\u001b[0m\u001b[0mcopy\u001b[0m\u001b[0;34m(\u001b[0m\u001b[0;34m)\u001b[0m \u001b[0;32mif\u001b[0m \u001b[0misinstance\u001b[0m\u001b[0;34m(\u001b[0m\u001b[0mmaybe_arr\u001b[0m\u001b[0;34m,\u001b[0m \u001b[0mnp\u001b[0m\u001b[0;34m.\u001b[0m\u001b[0mndarray\u001b[0m\u001b[0;34m)\u001b[0m \u001b[0;32melse\u001b[0m \u001b[0mmaybe_arr\u001b[0m\u001b[0;34m\u001b[0m\u001b[0;34m\u001b[0m\u001b[0m\n\u001b[1;32m   1073\u001b[0m \u001b[0;34m\u001b[0m\u001b[0m\n",
            "\u001b[0;32m/usr/local/lib/python3.7/dist-packages/tensorflow/python/framework/ops.py\u001b[0m in \u001b[0;36m_numpy\u001b[0;34m(self)\u001b[0m\n\u001b[1;32m   1035\u001b[0m   \u001b[0;32mdef\u001b[0m \u001b[0m_numpy\u001b[0m\u001b[0;34m(\u001b[0m\u001b[0mself\u001b[0m\u001b[0;34m)\u001b[0m\u001b[0;34m:\u001b[0m\u001b[0;34m\u001b[0m\u001b[0;34m\u001b[0m\u001b[0m\n\u001b[1;32m   1036\u001b[0m     \u001b[0;32mtry\u001b[0m\u001b[0;34m:\u001b[0m\u001b[0;34m\u001b[0m\u001b[0;34m\u001b[0m\u001b[0m\n\u001b[0;32m-> 1037\u001b[0;31m       \u001b[0;32mreturn\u001b[0m \u001b[0mself\u001b[0m\u001b[0;34m.\u001b[0m\u001b[0m_numpy_internal\u001b[0m\u001b[0;34m(\u001b[0m\u001b[0;34m)\u001b[0m\u001b[0;34m\u001b[0m\u001b[0;34m\u001b[0m\u001b[0m\n\u001b[0m\u001b[1;32m   1038\u001b[0m     \u001b[0;32mexcept\u001b[0m \u001b[0mcore\u001b[0m\u001b[0;34m.\u001b[0m\u001b[0m_NotOkStatusException\u001b[0m \u001b[0;32mas\u001b[0m \u001b[0me\u001b[0m\u001b[0;34m:\u001b[0m  \u001b[0;31m# pylint: disable=protected-access\u001b[0m\u001b[0;34m\u001b[0m\u001b[0;34m\u001b[0m\u001b[0m\n\u001b[1;32m   1039\u001b[0m       \u001b[0msix\u001b[0m\u001b[0;34m.\u001b[0m\u001b[0mraise_from\u001b[0m\u001b[0;34m(\u001b[0m\u001b[0mcore\u001b[0m\u001b[0;34m.\u001b[0m\u001b[0m_status_to_exception\u001b[0m\u001b[0;34m(\u001b[0m\u001b[0me\u001b[0m\u001b[0;34m.\u001b[0m\u001b[0mcode\u001b[0m\u001b[0;34m,\u001b[0m \u001b[0me\u001b[0m\u001b[0;34m.\u001b[0m\u001b[0mmessage\u001b[0m\u001b[0;34m)\u001b[0m\u001b[0;34m,\u001b[0m \u001b[0;32mNone\u001b[0m\u001b[0;34m)\u001b[0m  \u001b[0;31m# pylint: disable=protected-access\u001b[0m\u001b[0;34m\u001b[0m\u001b[0;34m\u001b[0m\u001b[0m\n",
            "\u001b[0;31mKeyboardInterrupt\u001b[0m: "
          ]
        }
      ]
    },
    {
      "cell_type": "code",
      "metadata": {
        "colab": {
          "base_uri": "https://localhost:8080/"
        },
        "id": "_hbSYhU-AHcu",
        "outputId": "cfa1d8bc-24a3-4ce1-b007-2e7c6ca70b94"
      },
      "source": [
        "model1.fit(X_train,y_labels,validation_data=(X_test,y_labels_test),epochs=50,batch_size=50)\n",
        "\n",
        "from keras.callbacks import ModelCheckpoint\n",
        "filepath = \"content/weights-improvement-{epoch:02d}-{val_accuracy:.2f}.hdf5\"\n",
        "checkpoint = ModelCheckpoint(\n",
        "    filepath, monitor='val_accuracy', verbose=1, save_best_only=True, mode='max')\n",
        "callbacks_list = [checkpoint]\n",
        "model1.fit(X_train,y_labels_train,validation_data = (X_test,y_labels_test),batch_size=50, epochs = 20,callbacks=callbacks_list)/"
      ],
      "execution_count": 8,
      "outputs": [
        {
          "output_type": "stream",
          "text": [
            "Epoch 1/20\n",
            "109/109 [==============================] - 11s 97ms/step - loss: 0.6303 - accuracy: 0.7754 - val_loss: 0.0000e+00 - val_accuracy: 0.5100\n",
            "\n",
            "Epoch 00001: val_accuracy improved from -inf to 0.51000, saving model to content/weights-improvement-01-0.51.hdf5\n",
            "Epoch 2/20\n",
            "109/109 [==============================] - 11s 97ms/step - loss: 0.6123 - accuracy: 0.7822 - val_loss: 0.0000e+00 - val_accuracy: 0.4800\n",
            "\n",
            "Epoch 00002: val_accuracy did not improve from 0.51000\n",
            "Epoch 3/20\n",
            "109/109 [==============================] - 11s 97ms/step - loss: 0.5821 - accuracy: 0.7927 - val_loss: 0.0000e+00 - val_accuracy: 0.4500\n",
            "\n",
            "Epoch 00003: val_accuracy did not improve from 0.51000\n",
            "Epoch 4/20\n",
            "109/109 [==============================] - 11s 97ms/step - loss: 0.5908 - accuracy: 0.7826 - val_loss: 0.0000e+00 - val_accuracy: 0.4657\n",
            "\n",
            "Epoch 00004: val_accuracy did not improve from 0.51000\n",
            "Epoch 5/20\n",
            "109/109 [==============================] - 11s 97ms/step - loss: 0.5709 - accuracy: 0.7956 - val_loss: 0.0000e+00 - val_accuracy: 0.4771\n",
            "\n",
            "Epoch 00005: val_accuracy did not improve from 0.51000\n",
            "Epoch 6/20\n",
            "109/109 [==============================] - 11s 97ms/step - loss: 0.5794 - accuracy: 0.7919 - val_loss: 0.0000e+00 - val_accuracy: 0.4436\n",
            "\n",
            "Epoch 00006: val_accuracy did not improve from 0.51000\n",
            "Epoch 7/20\n",
            "109/109 [==============================] - 11s 97ms/step - loss: 0.5297 - accuracy: 0.8117 - val_loss: 0.0000e+00 - val_accuracy: 0.4550\n",
            "\n",
            "Epoch 00007: val_accuracy did not improve from 0.51000\n",
            "Epoch 8/20\n",
            "109/109 [==============================] - 11s 98ms/step - loss: 0.5214 - accuracy: 0.8097 - val_loss: 0.0000e+00 - val_accuracy: 0.4443\n",
            "\n",
            "Epoch 00008: val_accuracy did not improve from 0.51000\n",
            "Epoch 9/20\n",
            "109/109 [==============================] - 11s 97ms/step - loss: 0.5233 - accuracy: 0.8130 - val_loss: 0.0000e+00 - val_accuracy: 0.4486\n",
            "\n",
            "Epoch 00009: val_accuracy did not improve from 0.51000\n",
            "Epoch 10/20\n",
            "109/109 [==============================] - 11s 98ms/step - loss: 0.4934 - accuracy: 0.8314 - val_loss: 0.0000e+00 - val_accuracy: 0.4443\n",
            "\n",
            "Epoch 00010: val_accuracy did not improve from 0.51000\n",
            "Epoch 11/20\n",
            "109/109 [==============================] - 11s 97ms/step - loss: 0.4710 - accuracy: 0.8363 - val_loss: 0.0000e+00 - val_accuracy: 0.4043\n",
            "\n",
            "Epoch 00011: val_accuracy did not improve from 0.51000\n",
            "Epoch 12/20\n",
            "109/109 [==============================] - 11s 98ms/step - loss: 0.4508 - accuracy: 0.8393 - val_loss: 0.0000e+00 - val_accuracy: 0.4493\n",
            "\n",
            "Epoch 00012: val_accuracy did not improve from 0.51000\n",
            "Epoch 13/20\n",
            "109/109 [==============================] - 11s 97ms/step - loss: 0.4865 - accuracy: 0.8338 - val_loss: 0.0000e+00 - val_accuracy: 0.3686\n",
            "\n",
            "Epoch 00013: val_accuracy did not improve from 0.51000\n",
            "Epoch 14/20\n",
            "109/109 [==============================] - 11s 98ms/step - loss: 0.4715 - accuracy: 0.8374 - val_loss: 0.0000e+00 - val_accuracy: 0.4479\n",
            "\n",
            "Epoch 00014: val_accuracy did not improve from 0.51000\n",
            "Epoch 15/20\n",
            "109/109 [==============================] - 11s 98ms/step - loss: 0.4526 - accuracy: 0.8433 - val_loss: 0.0000e+00 - val_accuracy: 0.4114\n",
            "\n",
            "Epoch 00015: val_accuracy did not improve from 0.51000\n",
            "Epoch 16/20\n",
            "109/109 [==============================] - 11s 97ms/step - loss: 0.4526 - accuracy: 0.8439 - val_loss: 0.0000e+00 - val_accuracy: 0.4121\n",
            "\n",
            "Epoch 00016: val_accuracy did not improve from 0.51000\n",
            "Epoch 17/20\n",
            "109/109 [==============================] - 11s 97ms/step - loss: 0.4114 - accuracy: 0.8587 - val_loss: 0.0000e+00 - val_accuracy: 0.3821\n",
            "\n",
            "Epoch 00017: val_accuracy did not improve from 0.51000\n",
            "Epoch 18/20\n",
            "109/109 [==============================] - 11s 97ms/step - loss: 0.4035 - accuracy: 0.8585 - val_loss: 0.0000e+00 - val_accuracy: 0.3479\n",
            "\n",
            "Epoch 00018: val_accuracy did not improve from 0.51000\n",
            "Epoch 19/20\n",
            "109/109 [==============================] - 11s 98ms/step - loss: 0.3899 - accuracy: 0.8659 - val_loss: 0.0000e+00 - val_accuracy: 0.4314\n",
            "\n",
            "Epoch 00019: val_accuracy did not improve from 0.51000\n",
            "Epoch 20/20\n",
            "109/109 [==============================] - 11s 98ms/step - loss: 0.3904 - accuracy: 0.8642 - val_loss: 0.0000e+00 - val_accuracy: 0.4636\n",
            "\n",
            "Epoch 00020: val_accuracy did not improve from 0.51000\n"
          ],
          "name": "stdout"
        },
        {
          "output_type": "execute_result",
          "data": {
            "text/plain": [
              "<tensorflow.python.keras.callbacks.History at 0x7f412e2d1c90>"
            ]
          },
          "metadata": {
            "tags": []
          },
          "execution_count": 8
        }
      ]
    },
    {
      "cell_type": "code",
      "metadata": {
        "colab": {
          "base_uri": "https://localhost:8080/"
        },
        "id": "POXOLSEpBdtl",
        "outputId": "9b17df22-458f-4274-b68e-c03bb88b04c2"
      },
      "source": [
        "model1.evaluate(X_test,y_labels_test,batch_size=50)"
      ],
      "execution_count": null,
      "outputs": [
        {
          "output_type": "stream",
          "text": [
            "28/28 [==============================] - 1s 30ms/step - loss: 0.0000e+00 - accuracy: 0.3857\n"
          ],
          "name": "stdout"
        },
        {
          "output_type": "execute_result",
          "data": {
            "text/plain": [
              "[0.0, 0.3857142925262451]"
            ]
          },
          "metadata": {
            "tags": []
          },
          "execution_count": 27
        }
      ]
    },
    {
      "cell_type": "code",
      "metadata": {
        "id": "MxtoEPVoMsNf"
      },
      "source": [
        "modelfeatured1 = models.Model(\n",
        "    inputs=model1.input,\n",
        "    outputs=model1.get_layer('dense').output\n",
        ")\n",
        "\n",
        "modelfeatured2 = models.Model(\n",
        "    inputs=model1.input,\n",
        "    outputs=model1.get_layer('flatten').output\n",
        ")"
      ],
      "execution_count": null,
      "outputs": []
    },
    {
      "cell_type": "code",
      "metadata": {
        "id": "tzRFs5az2Ldq"
      },
      "source": [
        "#\n",
        "X_train_features = np.reshape(X_train_features,(int(X_train_features.shape[0]/50),50,200))\n",
        "X_test_features = np.reshape(X_test_features,(int(X_test_features.shape[0]/50),50,200))\n",
        "X_train_features.shape,X_test_features.shape, y_labels.shape,y_labels_test.shape"
      ],
      "execution_count": null,
      "outputs": []
    }
  ]
}